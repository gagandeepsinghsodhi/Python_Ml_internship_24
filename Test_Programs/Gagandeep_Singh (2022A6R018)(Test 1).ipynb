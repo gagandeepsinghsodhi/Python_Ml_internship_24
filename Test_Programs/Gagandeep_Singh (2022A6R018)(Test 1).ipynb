{
 "cells": [
  {
   "cell_type": "code",
   "execution_count": null,
   "id": "109cd5e7-2e33-4660-b28c-669708e014bc",
   "metadata": {},
   "outputs": [],
   "source": [
    "Qustion 1"
   ]
  },
  {
   "cell_type": "code",
   "execution_count": 17,
   "id": "4a590c77-eb5a-402a-a21d-e2603c194ad7",
   "metadata": {},
   "outputs": [
    {
     "name": "stdout",
     "output_type": "stream",
     "text": [
      "        * \n",
      "      * * \n",
      "    * * * \n",
      "  * * * * \n",
      "* * * * * \n"
     ]
    }
   ],
   "source": [
    "# Pattern print Right Angled Triangle\n",
    "def pattern(n):\n",
    "    for i in range(1, n+1):\n",
    "        print(' ' * (n-i) * 2, end='')\n",
    "        for j in range(i):\n",
    "            print('* ' ,end= '')\n",
    "        print()\n",
    "\n",
    "rows = 5\n",
    "pattern(rows)    "
   ]
  },
  {
   "cell_type": "markdown",
   "id": "0a5fb381-c4e6-4348-bbfc-b997ccc718ea",
   "metadata": {},
   "source": [
    "Question 2"
   ]
  },
  {
   "cell_type": "code",
   "execution_count": 3,
   "id": "c33ee548-472e-4c49-9ffd-9c0ffac5e22d",
   "metadata": {},
   "outputs": [
    {
     "name": "stdin",
     "output_type": "stream",
     "text": [
      "Enter The First Vlue:  w2\n"
     ]
    },
    {
     "name": "stdout",
     "output_type": "stream",
     "text": [
      "Numerical Values: Enter Again: \n"
     ]
    },
    {
     "name": "stdin",
     "output_type": "stream",
     "text": [
      "Enter The First Vlue:  12\n",
      "Enter The Second Value:  3\n"
     ]
    },
    {
     "name": "stdout",
     "output_type": "stream",
     "text": [
      "4.0\n"
     ]
    }
   ],
   "source": [
    "while True:\n",
    "    try:\n",
    "        x = int(input(\"Enter The First Vlue: \"))\n",
    "        y = int(input(\"Enter The Second Value: \"))\n",
    "        print(x/y)\n",
    "        break\n",
    "    except ZeroDivisionError:\n",
    "        print(\"Second Vlaue Cannot Be Zero. Enter The Value Again: \")\n",
    "    except ValueError:\n",
    "        print(\"Numerical Values: Enter Again: \")"
   ]
  },
  {
   "cell_type": "markdown",
   "id": "71b1a65e-eb89-475e-b38c-0ac037279673",
   "metadata": {},
   "source": [
    "Qustion 3"
   ]
  },
  {
   "cell_type": "code",
   "execution_count": null,
   "id": "2a660439-08a0-42c5-aa23-39a58a5b5e40",
   "metadata": {},
   "outputs": [
    {
     "name": "stdout",
     "output_type": "stream",
     "text": [
      "__Menu__\n",
      "1. Stock Management\n",
      "2. Rent Item\n",
      "3. Return Item\n",
      "4. Print Records\n",
      "5. Exit\n"
     ]
    },
    {
     "name": "stdin",
     "output_type": "stream",
     "text": [
      "Enter your Choice:  1\n"
     ]
    },
    {
     "name": "stdout",
     "output_type": "stream",
     "text": [
      "Stock Menu\n",
      "1. Add item\n",
      "2. Remove item\n",
      "3. Update item\n",
      "4. Print Stock\n",
      "5. Exit\n"
     ]
    },
    {
     "name": "stdin",
     "output_type": "stream",
     "text": [
      "Enter your Choice:  5\n"
     ]
    },
    {
     "name": "stdout",
     "output_type": "stream",
     "text": [
      "All data saved. Exiting... Bye Bye 🙋‍♂️\n",
      "__Menu__\n",
      "1. Stock Management\n",
      "2. Rent Item\n",
      "3. Return Item\n",
      "4. Print Records\n",
      "5. Exit\n"
     ]
    }
   ],
   "source": [
    "import pandas as pd\n",
    "\n",
    "stock = {}\n",
    "records = {}\n",
    "\n",
    "class EQIP:\n",
    "    def __init__(self):\n",
    "        self.Eid = 0 \n",
    "        self.Ename = \"\"\n",
    "        self.Ebrand = \"\"\n",
    "        self.Etqty = 0 \n",
    "        self.Eaqty = 0\n",
    "\n",
    "    def Add_item(self):\n",
    "        self.Eid = int(input(\"Enter the Equipment ID: \"))\n",
    "        self.Ename = input(\"Enter the Equipment Name: \")\n",
    "        self.Ebrand = input(\"Enter the Equipment Brand: \")\n",
    "        self.Etqty = int(input(\"Enter the Equipment Total Quantity: \"))\n",
    "        self.Eaqty = int(input(\"Enter the Equipment Available Quantity: \"))\n",
    "        stock[self.Eid] = [self.Ename, self.Ebrand, self.Etqty, self.Eaqty]\n",
    "\n",
    "    def Remove_item(self):\n",
    "        self.Eid = int(input(\"Enter the Equipment ID to Remove: \"))\n",
    "        print(stock[self.Eid])\n",
    "        stock.pop(self.Eid, None)\n",
    "\n",
    "    def Update_item(self):\n",
    "        self.Eid = int(input(\"Enter the Equipment ID to Update: \"))\n",
    "        print(\"Enter a negative value if you want to decrease the quantity.\")\n",
    "        update_qty = int(input(\"Enter the Quantity to Update: \"))\n",
    "        stock[self.Eid][2] += update_qty\n",
    "\n",
    "    def print_stock(self):\n",
    "        df = pd.DataFrame.from_dict(stock, orient='index', columns=['Name', 'Brand', 'Total Quantity', 'Available Quantity'])\n",
    "        print(df)\n",
    "\n",
    "\n",
    "class Record:\n",
    "    def __init__(self):\n",
    "        self.name = \"\" \n",
    "        self.ID = 0\n",
    "        self.Eid = 0\n",
    "        self.Ename= \"\"\n",
    "        self.status = \"\"\n",
    "        self.condition = \"\"\n",
    "\n",
    "    def rent_Equip(self):\n",
    "        self.name = input(\"Enter your name: \")          \n",
    "        self.ID = int(input(\"Enter your ID: \"))\n",
    "        self.Eid = int(input(\"Enter the Equipment ID: \"))\n",
    "        if stock[self.Eid][3] == 0:\n",
    "            print(\"Item not available\")\n",
    "        else:\n",
    "            self.Ename = stock[self.Eid][0]\n",
    "            self.status = \"rented\"\n",
    "            self.condition = \"good\"\n",
    "            stock[self.Eid][3] -= 1\n",
    "            records[self.ID] = [self.name, self.Eid, self.Ename, self.status, self.condition]\n",
    "\n",
    "    def return_Equip(self):\n",
    "        self.ID = int(input(\"Enter your ID: \"))\n",
    "        if self.ID in records:\n",
    "            print(\"Member ID =\", self.ID)\n",
    "            print(\"Member Name =\", records[self.ID][0])\n",
    "            print(\"Equipment ID =\", records[self.ID][1])\n",
    "            print(\"Equipment Name =\", records[self.ID][2])\n",
    "            print(\"Status =\", records[self.ID][3])\n",
    "            print(\"Condition =\", records[self.ID][4])\n",
    "            self.condition = input(\"Enter the returned Condition: \")\n",
    "            self.status = \"Returned\"\n",
    "            records[self.ID][3] = self.status\n",
    "            records[self.ID][4] = self.condition\n",
    "            stock[records[self.ID][1]][3] += 1\n",
    "        else:\n",
    "            print(\"Record not found.\")\n",
    "\n",
    "    def print_Records(self):\n",
    "        df = pd.DataFrame.from_dict(records, orient='index', columns=['Name', 'Equipment ID', 'Equipment Name', 'Status', 'Condition'])\n",
    "        print(df)\n",
    "\n",
    "\n",
    "def stock_management():\n",
    "    choice = 0\n",
    "    temp = EQIP()\n",
    "    while choice != 5:\n",
    "        print(\"Stock Menu\")\n",
    "        print(\"1. Add item\")\n",
    "        print(\"2. Remove item\")\n",
    "        print(\"3. Update item\")\n",
    "        print(\"4. Print Stock\")\n",
    "        print(\"5. Exit\")\n",
    "        choice = int(input(\"Enter your Choice: \"))\n",
    "        match choice:\n",
    "            case 1:\n",
    "                temp.Add_item()\n",
    "            case 2:\n",
    "                temp.Remove_item()\n",
    "            case 3:\n",
    "                temp.Update_item()\n",
    "            case 4:\n",
    "                temp.print_stock()\n",
    "            case 5:\n",
    "                print(\"All data saved. Exiting... Bye Bye 🙋‍♂️\")\n",
    "            case _:\n",
    "                print(\"Wrong Choice. Try Again!\")\n",
    "\n",
    "\n",
    "if __name__ == \"__main__\":\n",
    "    choice = 0\n",
    "    rec = Record()\n",
    "    while choice != 5:\n",
    "        print(\"__Menu__\")\n",
    "        print(\"1. Stock Management\")\n",
    "        print(\"2. Rent Item\")\n",
    "        print(\"3. Return Item\")\n",
    "        print(\"4. Print Records\")\n",
    "        print(\"5. Exit\")\n",
    "        choice = int(input(\"Enter your Choice: \"))\n",
    "        match choice:\n",
    "            case 1:\n",
    "                stock_management()\n",
    "            case 2:\n",
    "                rec.rent_Equip()\n",
    "            case 3:\n",
    "                rec.return_Equip()\n",
    "            case 4:\n",
    "                rec.print_Records()\n",
    "            case 5:\n",
    "                print(\"All data saved. Exiting... Bye Bye\")\n",
    "            case _:\n",
    "                print(\"Wrong Choice. Try Again!\")\n"
   ]
  },
  {
   "cell_type": "code",
   "execution_count": null,
   "id": "e299ef8b-4c52-4173-afd3-3904e34788b4",
   "metadata": {},
   "outputs": [],
   "source": []
  }
 ],
 "metadata": {
  "kernelspec": {
   "display_name": "Python 3 (ipykernel)",
   "language": "python",
   "name": "python3"
  },
  "language_info": {
   "codemirror_mode": {
    "name": "ipython",
    "version": 3
   },
   "file_extension": ".py",
   "mimetype": "text/x-python",
   "name": "python",
   "nbconvert_exporter": "python",
   "pygments_lexer": "ipython3",
   "version": "3.12.1"
  }
 },
 "nbformat": 4,
 "nbformat_minor": 5
}
