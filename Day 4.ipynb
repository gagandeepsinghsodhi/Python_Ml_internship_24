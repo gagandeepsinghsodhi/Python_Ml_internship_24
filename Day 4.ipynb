{
 "cells": [
  {
   "cell_type": "markdown",
   "id": "debfe614-cefd-462d-a008-0755cdf93206",
   "metadata": {},
   "source": [
    "# You are given a 2D Numpy array representing exam scores of students in different subjects. The array has shape (5,3), where each row reprfesents a\n",
    "  students and each column represents a subject (Maths, Sciencee, English).\n",
    "\n",
    "  Scores = np.array([[ 85,90,78],\n",
    "                     [92,88,95],\n",
    "                     [76,95,85],\n",
    "                     [90,85,92],\n",
    "                     [88,76,89]])\n",
    "\n",
    "Using Numpy , perform the following tasks:\n",
    "1. calculate the mean score of each subject ( across all students).\n",
    "2. find the median score of each student ( acrossall the students).\n",
    "3. Extract the scores of the student with the highest total score ( sum of all subjects).\n",
    "4. Find the minimum and maximum scores in each subjects.\n",
    "5. Reshape the array to have shape (3,5) where each row represents a subject.\n",
    "6. Sort the scores of each subject in ascending order.\n",
    "Note : Provide the code to accomplish each task , and include comments to explain your thoughts process."
   ]
  },
  {
   "cell_type": "code",
   "execution_count": 2,
   "id": "3964c23e-ed8e-4917-9314-348ac5a6234f",
   "metadata": {},
   "outputs": [],
   "source": [
    "import numpy as np"
   ]
  },
  {
   "cell_type": "code",
   "execution_count": 3,
   "id": "c6956160-b507-4d45-9c44-89430beda579",
   "metadata": {},
   "outputs": [
    {
     "data": {
      "text/plain": [
       "array([[85, 90, 78],\n",
       "       [92, 88, 95],\n",
       "       [76, 95, 85],\n",
       "       [90, 85, 92],\n",
       "       [88, 76, 89]])"
      ]
     },
     "execution_count": 3,
     "metadata": {},
     "output_type": "execute_result"
    }
   ],
   "source": [
    "scores = np.array([[ 85,90,78],\n",
    "                   [92,88,95],\n",
    "                   [76,95,85],\n",
    "                   [90,85,92],\n",
    "                   [88,76,89]])\n",
    "scores"
   ]
  },
  {
   "cell_type": "code",
   "execution_count": 5,
   "id": "8c4a34e1-1176-4d43-aae3-c19b9ed32ec1",
   "metadata": {},
   "outputs": [
    {
     "data": {
      "text/plain": [
       "array([84.33333333, 91.66666667, 85.33333333, 89.        , 84.33333333])"
      ]
     },
     "execution_count": 5,
     "metadata": {},
     "output_type": "execute_result"
    }
   ],
   "source": [
    "\n",
    "np.mean(scores, axis = 1)"
   ]
  },
  {
   "cell_type": "code",
   "execution_count": 7,
   "id": "4a61cd81-5f9c-492f-aab0-bf511005cbc2",
   "metadata": {},
   "outputs": [
    {
     "data": {
      "text/plain": [
       "array([85., 92., 85., 90., 88.])"
      ]
     },
     "execution_count": 7,
     "metadata": {},
     "output_type": "execute_result"
    }
   ],
   "source": [
    "np.median(scores , axis = 1)"
   ]
  },
  {
   "cell_type": "code",
   "execution_count": 26,
   "id": "15c76e90-2923-4926-b7bd-4fc1e0cafc15",
   "metadata": {},
   "outputs": [
    {
     "data": {
      "text/plain": [
       "array([253, 275, 256, 267, 253])"
      ]
     },
     "execution_count": 26,
     "metadata": {},
     "output_type": "execute_result"
    }
   ],
   "source": [
    "i =np.sum(scores, axis = 1)\n",
    "i"
   ]
  },
  {
   "cell_type": "code",
   "execution_count": 27,
   "id": "5a853e43-8502-4f51-81a5-ccc69cd24087",
   "metadata": {},
   "outputs": [
    {
     "data": {
      "text/plain": [
       "np.int64(275)"
      ]
     },
     "execution_count": 27,
     "metadata": {},
     "output_type": "execute_result"
    }
   ],
   "source": [
    "# Max\n",
    "np.max(i)"
   ]
  },
  {
   "cell_type": "code",
   "execution_count": 28,
   "id": "34883658-b708-48c0-9f27-81ee083ce187",
   "metadata": {},
   "outputs": [
    {
     "data": {
      "text/plain": [
       "array([78, 88, 76, 85, 76])"
      ]
     },
     "execution_count": 28,
     "metadata": {},
     "output_type": "execute_result"
    }
   ],
   "source": [
    "# Min\n",
    "np.min(scores, axis = 1)\n"
   ]
  },
  {
   "cell_type": "code",
   "execution_count": 29,
   "id": "5d2953ea-1d9c-452f-8a24-1a2bd1efed9f",
   "metadata": {},
   "outputs": [
    {
     "data": {
      "text/plain": [
       "array([[78, 85, 90],\n",
       "       [88, 92, 95],\n",
       "       [76, 85, 95],\n",
       "       [85, 90, 92],\n",
       "       [76, 88, 89]])"
      ]
     },
     "execution_count": 29,
     "metadata": {},
     "output_type": "execute_result"
    }
   ],
   "source": [
    "# Ascending Order\n",
    "np.sort(scores)"
   ]
  },
  {
   "cell_type": "markdown",
   "id": "dcf6e3c6-9d7c-4fd4-8d0e-47bc99b6e005",
   "metadata": {},
   "source": [
    "Reshape The Size"
   ]
  },
  {
   "cell_type": "code",
   "execution_count": 30,
   "id": "f75f2641-616e-4535-8822-81c35fc2a497",
   "metadata": {},
   "outputs": [
    {
     "data": {
      "text/plain": [
       "array([[85, 90, 78, 92, 88],\n",
       "       [95, 76, 95, 85, 90],\n",
       "       [85, 92, 88, 76, 89]])"
      ]
     },
     "execution_count": 30,
     "metadata": {},
     "output_type": "execute_result"
    }
   ],
   "source": [
    "# Reshape the Array\n",
    "np.reshape(scores,(3,5))"
   ]
  },
  {
   "cell_type": "code",
   "execution_count": 33,
   "id": "6430a740-7c6e-461c-99ad-967a1a1f153f",
   "metadata": {},
   "outputs": [
    {
     "data": {
      "text/plain": [
       "np.int64(1)"
      ]
     },
     "execution_count": 33,
     "metadata": {},
     "output_type": "execute_result"
    }
   ],
   "source": [
    "# Max and Min\n",
    "index=np.argmax(i)\n",
    "index"
   ]
  },
  {
   "cell_type": "code",
   "execution_count": 34,
   "id": "65ed354a-b1d5-4a15-93ff-ef479136e0ff",
   "metadata": {},
   "outputs": [
    {
     "data": {
      "text/plain": [
       "array([92, 88, 95])"
      ]
     },
     "execution_count": 34,
     "metadata": {},
     "output_type": "execute_result"
    }
   ],
   "source": [
    "scores[index]"
   ]
  },
  {
   "cell_type": "code",
   "execution_count": 37,
   "id": "d9bc200d-d284-42be-b671-9f89c9494dd8",
   "metadata": {},
   "outputs": [
    {
     "data": {
      "text/plain": [
       "array([[92, 95, 95],\n",
       "       [90, 90, 92],\n",
       "       [88, 88, 89],\n",
       "       [85, 85, 85],\n",
       "       [76, 76, 78]])"
      ]
     },
     "execution_count": 37,
     "metadata": {},
     "output_type": "execute_result"
    }
   ],
   "source": [
    "# Descending Order\n",
    "np.sort(scores,axis = 0)[:: -1]"
   ]
  },
  {
   "cell_type": "code",
   "execution_count": null,
   "id": "b8bbdc3a-602f-4ba1-a594-070f01fbe4aa",
   "metadata": {},
   "outputs": [],
   "source": []
  }
 ],
 "metadata": {
  "kernelspec": {
   "display_name": "Python 3 (ipykernel)",
   "language": "python",
   "name": "python3"
  },
  "language_info": {
   "codemirror_mode": {
    "name": "ipython",
    "version": 3
   },
   "file_extension": ".py",
   "mimetype": "text/x-python",
   "name": "python",
   "nbconvert_exporter": "python",
   "pygments_lexer": "ipython3",
   "version": "3.12.1"
  }
 },
 "nbformat": 4,
 "nbformat_minor": 5
}
