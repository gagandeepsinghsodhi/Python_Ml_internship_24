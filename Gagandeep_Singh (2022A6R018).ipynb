{
 "cells": [
  {
   "cell_type": "markdown",
   "id": "42e95e8c-bff2-4f12-9efa-320b02c55694",
   "metadata": {},
   "source": [
    "Qustion 1"
   ]
  },
  {
   "cell_type": "code",
   "execution_count": 17,
   "id": "4a590c77-eb5a-402a-a21d-e2603c194ad7",
   "metadata": {},
   "outputs": [
    {
     "name": "stdout",
     "output_type": "stream",
     "text": [
      "        * \n",
      "      * * \n",
      "    * * * \n",
      "  * * * * \n",
      "* * * * * \n"
     ]
    }
   ],
   "source": [
    "# Pattern print Right Angled Triangle\n",
    "def pattern(n):\n",
    "    for i in range(1, n+1):\n",
    "        print(' ' * (n-i) * 2, end='')\n",
    "        for j in range(i):\n",
    "            print('* ' ,end= '')\n",
    "        print()\n",
    "\n",
    "rows = 5\n",
    "pattern(rows)\n",
    "        \n",
    "\n",
    "    "
   ]
  },
  {
   "cell_type": "markdown",
   "id": "fe9ed07b-2d37-4576-95c6-890aa65b468e",
   "metadata": {},
   "source": [
    "Question 2"
   ]
  },
  {
   "cell_type": "code",
   "execution_count": null,
   "id": "975698ff-2477-4451-a1f2-dc4da9b2b0a5",
   "metadata": {},
   "outputs": [],
   "source": [
    "def div_user(a,b):\n",
    "    try:\n",
    "        print(a/b)\n",
    "    except ZeroDivisionError:\n",
    "        print(\"Second number cannot be zero. Enter again\")\n",
    "        for i in range(0,100000000):\n",
    "            C=int(input(\"enter the second number again\"))\n",
    "            if C>0:\n",
    "                  print(a/C)\n",
    "                  break\n",
    "    \n",
    "if _name==\"main_\":  \n",
    "     a= int(input(\"Enter the number:\"))\n",
    "     b= int(input(\"Enter the number:\"))      \n",
    "div_user(a,b)"
   ]
  },
  {
   "cell_type": "code",
   "execution_count": null,
   "id": "604da494-70b8-4173-802b-d46fdd4bc5fe",
   "metadata": {},
   "outputs": [],
   "source": []
  }
 ],
 "metadata": {
  "kernelspec": {
   "display_name": "Python 3 (ipykernel)",
   "language": "python",
   "name": "python3"
  },
  "language_info": {
   "codemirror_mode": {
    "name": "ipython",
    "version": 3
   },
   "file_extension": ".py",
   "mimetype": "text/x-python",
   "name": "python",
   "nbconvert_exporter": "python",
   "pygments_lexer": "ipython3",
   "version": "3.12.1"
  }
 },
 "nbformat": 4,
 "nbformat_minor": 5
}
