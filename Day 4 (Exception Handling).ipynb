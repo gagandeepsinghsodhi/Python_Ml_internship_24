{
 "cells": [
  {
   "cell_type": "code",
   "execution_count": 1,
   "id": "8f5b8e5e-284c-40eb-932a-839deee02fb2",
   "metadata": {},
   "outputs": [
    {
     "data": {
      "text/plain": [
       "4"
      ]
     },
     "execution_count": 1,
     "metadata": {},
     "output_type": "execute_result"
    }
   ],
   "source": [
    "L = [1,2,3,4,5]\n",
    "L[3]"
   ]
  },
  {
   "cell_type": "code",
   "execution_count": 2,
   "id": "1b43cafa-5cf3-47fb-95fb-dc251e39b9d9",
   "metadata": {},
   "outputs": [
    {
     "name": "stdout",
     "output_type": "stream",
     "text": [
      "Hello World\n"
     ]
    },
    {
     "ename": "IndexError",
     "evalue": "list index out of range",
     "output_type": "error",
     "traceback": [
      "\u001b[1;31m---------------------------------------------------------------------------\u001b[0m",
      "\u001b[1;31mIndexError\u001b[0m                                Traceback (most recent call last)",
      "Cell \u001b[1;32mIn[2], line 4\u001b[0m\n\u001b[0;32m      2\u001b[0m L\n\u001b[0;32m      3\u001b[0m L[\u001b[38;5;241m3\u001b[39m]\n\u001b[1;32m----> 4\u001b[0m \u001b[43mL\u001b[49m\u001b[43m[\u001b[49m\u001b[38;5;241;43m7\u001b[39;49m\u001b[43m]\u001b[49m\n\u001b[0;32m      5\u001b[0m \u001b[38;5;28mprint\u001b[39m(\u001b[38;5;124m\"\u001b[39m\u001b[38;5;124mEnd of code\u001b[39m\u001b[38;5;124m\"\u001b[39m)\n",
      "\u001b[1;31mIndexError\u001b[0m: list index out of range"
     ]
    }
   ],
   "source": [
    "# Error Code\n",
    "print(\"Hello World\")\n",
    "L\n",
    "L[3]\n",
    "L[7] # Not a syntax error but it is run time error (becoz out of range)\n",
    "print(\"End of code\")"
   ]
  },
  {
   "cell_type": "code",
   "execution_count": 3,
   "id": "65f264cd-47ee-4983-9604-7a8ddfa1358f",
   "metadata": {},
   "outputs": [
    {
     "name": "stdout",
     "output_type": "stream",
     "text": [
      "Hello World\n",
      "4\n",
      "Invalid Index\n",
      "End of code\n"
     ]
    }
   ],
   "source": [
    "# Applying Exception Handling code\n",
    "print(\"Hello World\")\n",
    "L\n",
    "print(L[3])\n",
    "try:\n",
    "    print(L[7])\n",
    "\n",
    "except:\n",
    "    print(\"Invalid Index\")\n",
    "print(\"End of code\")"
   ]
  },
  {
   "cell_type": "code",
   "execution_count": 6,
   "id": "310d2507-1398-42ca-83bc-f704749e34e3",
   "metadata": {},
   "outputs": [
    {
     "name": "stdout",
     "output_type": "stream",
     "text": [
      "B can't be zero\n",
      "Code exceuted Successfully\n"
     ]
    }
   ],
   "source": [
    "a = 10\n",
    "b = 0\n",
    "\n",
    "try:\n",
    "    print(a/b)\n",
    "except:\n",
    "    print(\"B can't be zero\")\n",
    "finally: # It will work in all condition even if it have error\n",
    "    print(\"Code exceuted Successfully\")"
   ]
  },
  {
   "cell_type": "code",
   "execution_count": null,
   "id": "8c0d57c2-ebfa-40df-95a4-2a20b9916ddd",
   "metadata": {},
   "outputs": [],
   "source": []
  }
 ],
 "metadata": {
  "kernelspec": {
   "display_name": "Python 3 (ipykernel)",
   "language": "python",
   "name": "python3"
  },
  "language_info": {
   "codemirror_mode": {
    "name": "ipython",
    "version": 3
   },
   "file_extension": ".py",
   "mimetype": "text/x-python",
   "name": "python",
   "nbconvert_exporter": "python",
   "pygments_lexer": "ipython3",
   "version": "3.12.1"
  }
 },
 "nbformat": 4,
 "nbformat_minor": 5
}
