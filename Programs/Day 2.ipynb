{
 "cells": [
  {
   "cell_type": "code",
   "execution_count": null,
   "id": "ccba6343-4b3c-4121-a256-f3f26d209223",
   "metadata": {},
   "outputs": [],
   "source": [
    "#python programming  \n",
    "# Progrm to perform basic mathematical operataions\n",
    "\n",
    "str = input(\"Enter your Expression: \")\n",
    "op = \"\"\n",
    "for i in str:\n",
    "    if i in ['+', '-', '*', '/']:\n",
    "        op = i\n",
    "str = str.replace(op, \" \")\n",
    "l = str.split(\" \")\n",
    "\n",
    "if op == '+':\n",
    "    print(float (l[0]) + float (l[1]))\n",
    "elif op == '-':\n",
    "    print(float (l[0]) - float (l[1]))\n",
    "elif op == '*':\n",
    "    print(float (l[0]) * float (l[1]))\n",
    "elif op == '/':\n",
    "    print(float (l[0]) / float (l[1]))\n",
    "else:\n",
    "    print(\"Invalid operator! Try again\")\n",
    "\n",
    "\n",
    "\n"
   ]
  },
  {
   "cell_type": "code",
   "execution_count": 16,
   "id": "56c8bf6b-419e-4b33-bd87-96e033550cc9",
   "metadata": {},
   "outputs": [
    {
     "name": "stdout",
     "output_type": "stream",
     "text": [
      "{'A': 2, 'B': 3, 'C': 1}\n"
     ]
    }
   ],
   "source": [
    "# Write a code where you have given a dict with certain keyword and to check th no of occurance and create a new dict to enter the repeated keyword in new dict.\n",
    "\n",
    "dict1 = {\"s1\": \"A\", \"s2\": \"B\", \"s3\": \"A\", \"s4\": \"B\", \"s5\": \"C\", \"s6\": \"B\"}\n",
    "dict2 = {}\n",
    "for i in dict1.values():\n",
    "    if i in dict2.keys():\n",
    "        dict2[i] = dict2[i]+1\n",
    "    else:\n",
    "        dict2[i] = 1\n",
    "print(dict2)\n",
    "    \n"
   ]
  },
  {
   "cell_type": "code",
   "execution_count": 32,
   "id": "d9e135e4-021c-4cd9-b9c1-65ca5c94ef68",
   "metadata": {},
   "outputs": [
    {
     "name": "stdin",
     "output_type": "stream",
     "text": [
      "Enter a number:  2\n"
     ]
    },
    {
     "name": "stdout",
     "output_type": "stream",
     "text": [
      "Number entered: 2\n",
      "Prime number\n"
     ]
    }
   ],
   "source": [
    "# Functions \n",
    "#Functions with return\n",
    "'''def addnum(a,b):\n",
    "    c = a+b\n",
    "    return c\n",
    "\n",
    "if __name__== \"__main__\":\n",
    "    result = addnum(9,8)\n",
    "    print(result)'''\n",
    "\n",
    "# Function without return\n",
    "'''def addnum(a,b):\n",
    "    c = a+b\n",
    "    print(c)\n",
    "    return\n",
    "    \n",
    "if __name__== \"__main__\":\n",
    "    addnum(9,8)'''\n",
    "\n",
    "# No return function\n",
    "'''def addnum():\n",
    "    a = int(input())\n",
    "    b = int(input())\n",
    "    c = a+b\n",
    "    print (c)\n",
    "    \n",
    "if __name__== \"__main__\":\n",
    "    addnum()'''\n",
    "\n",
    "# Prime number using functions\n",
    "\n",
    "def prime_number(num):\n",
    "    if num < 2:\n",
    "        print(\"Not Prime\")\n",
    "    else:\n",
    "        for i in range(2, num):\n",
    "            if num % i == 0:\n",
    "                print(\"Not Prime\")\n",
    "                break\n",
    "        else:\n",
    "            print(\"Prime number\")\n",
    "            \n",
    "if __name__ == \"__main__\":\n",
    "    num = int(input(\"Enter a number: \"))\n",
    "    print(f\"Number entered: {num}\")\n",
    "    prime_number(num)\n",
    "\n"
   ]
  },
  {
   "cell_type": "code",
   "execution_count": 37,
   "id": "538e0abc-5ea5-40dc-a615-f3547fea8259",
   "metadata": {},
   "outputs": [
    {
     "name": "stdout",
     "output_type": "stream",
     "text": [
      "0\n",
      "[]\n",
      "Sample\n",
      "<class '__main__.ABC'>\n"
     ]
    }
   ],
   "source": [
    "# Class \n",
    "class ABC:\n",
    "    def __init__(self):\n",
    "        self.a = 0\n",
    "        self.L = []\n",
    "        self.C = \"Sample\"\n",
    "    def abc(self):\n",
    "        print(self.a)\n",
    "        print(self.L)\n",
    "        print(self.C)\n",
    "\n",
    "if __name__ == \"__main__\":\n",
    "    obj = ABC()\n",
    "    obj.abc()\n",
    "    print(type(obj))"
   ]
  },
  {
   "cell_type": "code",
   "execution_count": 48,
   "id": "7dc73971-6389-42c1-a5e0-672914eb905a",
   "metadata": {},
   "outputs": [
    {
     "name": "stdout",
     "output_type": "stream",
     "text": [
      "this is public function 1 from class A\n"
     ]
    },
    {
     "ename": "AttributeError",
     "evalue": "'B' object has no attribute '_fun2_'",
     "output_type": "error",
     "traceback": [
      "\u001b[1;31m---------------------------------------------------------------------------\u001b[0m",
      "\u001b[1;31mAttributeError\u001b[0m                            Traceback (most recent call last)",
      "Cell \u001b[1;32mIn[48], line 29\u001b[0m\n\u001b[0;32m     26\u001b[0m obj3\u001b[38;5;241m=\u001b[39mC()\n\u001b[0;32m     28\u001b[0m obj1\u001b[38;5;241m.\u001b[39mfun1()\n\u001b[1;32m---> 29\u001b[0m \u001b[43mobj2\u001b[49m\u001b[38;5;241;43m.\u001b[39;49m\u001b[43m_fun2_\u001b[49m()\n\u001b[0;32m     31\u001b[0m obj2\u001b[38;5;241m.\u001b[39mfun3()\n\u001b[0;32m     32\u001b[0m obj2\u001b[38;5;241m.\u001b[39m_fun4_()\n",
      "\u001b[1;31mAttributeError\u001b[0m: 'B' object has no attribute '_fun2_'"
     ]
    }
   ],
   "source": [
    "# Multilevel Inheritance\n",
    "class A:\n",
    "    def _init_(self):\n",
    "        self.a=2\n",
    "    def fun1(self):\n",
    "        print(\"this is public function 1 from class A\")\n",
    "    def fun2(self):\n",
    "        print(\"this is public function 2 from class A\")\n",
    "class B:\n",
    "    def _init_(self):\n",
    "        self.b=3\n",
    "    def fun3(self):\n",
    "        print(\"this is public function from 3 class B\")\n",
    "    def fun4(self):\n",
    "        print(\"this is public function from 4 class B\")\n",
    "class C:\n",
    "    def _init_(self):\n",
    "        self.c=4\n",
    "    def fun5(self):\n",
    "        print(\"this is public function from 5 class C\")\n",
    "    def fun6(self):\n",
    "        print(\"this is public function from 6 class C\")\n",
    "if __name__==\"__main__\":\n",
    "    obj1=A()\n",
    "    obj2=B()\n",
    "    obj3=C()\n",
    "    \n",
    "    obj1.fun1()\n",
    "    obj2._fun2_()\n",
    "\n",
    "    obj2.fun3()\n",
    "    obj2._fun4_()\n",
    "\n",
    "    obj3.fun5()\n",
    "    obj3._fun6_()\n",
    "        "
   ]
  },
  {
   "cell_type": "code",
   "execution_count": 47,
   "id": "cbbe6038-0365-451a-8f86-a32d53008c56",
   "metadata": {},
   "outputs": [
    {
     "name": "stdout",
     "output_type": "stream",
     "text": [
      "this is public function 1 from class A\n"
     ]
    },
    {
     "ename": "AttributeError",
     "evalue": "'C' object has no attribute '_fun2_'",
     "output_type": "error",
     "traceback": [
      "\u001b[1;31m---------------------------------------------------------------------------\u001b[0m",
      "\u001b[1;31mAttributeError\u001b[0m                            Traceback (most recent call last)",
      "Cell \u001b[1;32mIn[47], line 30\u001b[0m\n\u001b[0;32m     27\u001b[0m obj3\u001b[38;5;241m=\u001b[39mC()\n\u001b[0;32m     29\u001b[0m obj3\u001b[38;5;241m.\u001b[39mfun1()\n\u001b[1;32m---> 30\u001b[0m \u001b[43mobj3\u001b[49m\u001b[38;5;241;43m.\u001b[39;49m\u001b[43m_fun2_\u001b[49m()\n\u001b[0;32m     32\u001b[0m obj2\u001b[38;5;241m.\u001b[39mfun3()\n\u001b[0;32m     33\u001b[0m obj2\u001b[38;5;241m.\u001b[39m_fun4_()\n",
      "\u001b[1;31mAttributeError\u001b[0m: 'C' object has no attribute '_fun2_'"
     ]
    }
   ],
   "source": [
    "#Multilevel Inheritance with A-->B-->C\n",
    "class A:\n",
    "    def _init_(self):\n",
    "        self.a=2\n",
    "    def fun1(self):\n",
    "        print(\"this is public function 1 from class A\")\n",
    "    def fun2(self):\n",
    "        print(\"this is public function 2 from class A\")\n",
    "class B(A):\n",
    "    def _init_(self):\n",
    "        self.b=3\n",
    "    def fun3(self):\n",
    "        print(\"this is public function from 3 class B\")\n",
    "    def fun4(self):\n",
    "        print(\"this is public function from 4 class B\")\n",
    "class C(B):\n",
    "    def _init_(self):\n",
    "        self.c=4\n",
    "    def fun5(self):\n",
    "        print(\"this is public function from 5 class C\")\n",
    "    def fun6(self):\n",
    "        print(\"this is public function from 6 class C\")\n",
    "if __name__==\"__main__\":\n",
    "    obj1=A()\n",
    "    obj2=B()\n",
    "    obj3=C()\n",
    "    \n",
    "    obj3.fun1()\n",
    "    obj3._fun2_()\n",
    "\n",
    "    obj2.fun3()\n",
    "    obj2._fun4_()\n",
    "\n",
    "    obj3.fun5()\n",
    "    obj3._fun6_()"
   ]
  }
 ],
 "metadata": {
  "kernelspec": {
   "display_name": "Python 3 (ipykernel)",
   "language": "python",
   "name": "python3"
  },
  "language_info": {
   "codemirror_mode": {
    "name": "ipython",
    "version": 3
   },
   "file_extension": ".py",
   "mimetype": "text/x-python",
   "name": "python",
   "nbconvert_exporter": "python",
   "pygments_lexer": "ipython3",
   "version": "3.12.1"
  }
 },
 "nbformat": 4,
 "nbformat_minor": 5
}
