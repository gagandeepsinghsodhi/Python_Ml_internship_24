{
 "cells": [
  {
   "cell_type": "code",
   "execution_count": 2,
   "id": "a4036275-4200-4d85-bbc3-bca1b860012d",
   "metadata": {},
   "outputs": [],
   "source": [
    "# Numpy installed globally from Command prompt (pip install numpy)\n",
    "import numpy as np"
   ]
  },
  {
   "cell_type": "code",
   "execution_count": 3,
   "id": "9f6e36f5-45e3-4e7f-a8df-789f34f14204",
   "metadata": {},
   "outputs": [],
   "source": [
    "# 1D Arrays\n",
    "arr = np.array([1,2,3,4,5])"
   ]
  },
  {
   "cell_type": "code",
   "execution_count": 4,
   "id": "29c2d7e2-d79d-45e0-9e6b-54254c80bba4",
   "metadata": {},
   "outputs": [
    {
     "data": {
      "text/plain": [
       "array([1, 2, 3, 4, 5])"
      ]
     },
     "execution_count": 4,
     "metadata": {},
     "output_type": "execute_result"
    }
   ],
   "source": [
    "arr"
   ]
  },
  {
   "cell_type": "code",
   "execution_count": 5,
   "id": "f704e529-c213-4d9c-bd89-c3b8ed5e8013",
   "metadata": {},
   "outputs": [
    {
     "name": "stdout",
     "output_type": "stream",
     "text": [
      "int64\n"
     ]
    }
   ],
   "source": [
    "print(arr.dtype)"
   ]
  },
  {
   "cell_type": "code",
   "execution_count": 6,
   "id": "37136951-d47c-4f23-af44-86b3459a7a62",
   "metadata": {},
   "outputs": [],
   "source": [
    "arr2 = np.array([1, 2, 3, 4, 5], dtype=np.int64)"
   ]
  },
  {
   "cell_type": "code",
   "execution_count": 7,
   "id": "42216dd5-75a6-4fbf-a8ce-5c9c620f480a",
   "metadata": {},
   "outputs": [
    {
     "data": {
      "text/plain": [
       "array([1, 2, 3, 4, 5])"
      ]
     },
     "execution_count": 7,
     "metadata": {},
     "output_type": "execute_result"
    }
   ],
   "source": [
    "arr2"
   ]
  },
  {
   "cell_type": "code",
   "execution_count": 8,
   "id": "98b29ec3-860b-4a05-bc2e-296f9e65d588",
   "metadata": {},
   "outputs": [],
   "source": [
    "Z=np.zeros(5)"
   ]
  },
  {
   "cell_type": "code",
   "execution_count": 9,
   "id": "f6b539b7-0983-4ae2-bca2-0801ed1c40f3",
   "metadata": {},
   "outputs": [
    {
     "data": {
      "text/plain": [
       "array([0., 0., 0., 0., 0.])"
      ]
     },
     "execution_count": 9,
     "metadata": {},
     "output_type": "execute_result"
    }
   ],
   "source": [
    "Z\n"
   ]
  },
  {
   "cell_type": "code",
   "execution_count": 10,
   "id": "91316509-915a-4094-bec7-39a5eb8b8581",
   "metadata": {},
   "outputs": [],
   "source": [
    "Z=np.ones(5)"
   ]
  },
  {
   "cell_type": "code",
   "execution_count": 11,
   "id": "e6923687-8f7d-4840-a335-18a4c874c2cf",
   "metadata": {},
   "outputs": [
    {
     "data": {
      "text/plain": [
       "array([1., 1., 1., 1., 1.])"
      ]
     },
     "execution_count": 11,
     "metadata": {},
     "output_type": "execute_result"
    }
   ],
   "source": [
    "Z"
   ]
  },
  {
   "cell_type": "code",
   "execution_count": 12,
   "id": "95f3d769-cfe8-441c-8536-ea31533c044e",
   "metadata": {},
   "outputs": [],
   "source": [
    "ar=np.arange(0,10,1)"
   ]
  },
  {
   "cell_type": "code",
   "execution_count": 13,
   "id": "ac448a65-831d-433d-8172-8f3dc7525e4f",
   "metadata": {},
   "outputs": [
    {
     "data": {
      "text/plain": [
       "array([0, 1, 2, 3, 4, 5, 6, 7, 8, 9])"
      ]
     },
     "execution_count": 13,
     "metadata": {},
     "output_type": "execute_result"
    }
   ],
   "source": [
    "ar"
   ]
  },
  {
   "cell_type": "code",
   "execution_count": 14,
   "id": "3f9ccd5f-4d14-4be2-9e57-aa6ecb2080d6",
   "metadata": {},
   "outputs": [],
   "source": [
    "## random rand function always takes values between 0 -1\n",
    "ran=np.random.rand(5)"
   ]
  },
  {
   "cell_type": "code",
   "execution_count": 15,
   "id": "cef4d22e-5d84-4220-b4b9-718f8beec6d5",
   "metadata": {},
   "outputs": [
    {
     "data": {
      "text/plain": [
       "array([0.95296685, 0.35696124, 0.23894813, 0.45981223, 0.91095166])"
      ]
     },
     "execution_count": 15,
     "metadata": {},
     "output_type": "execute_result"
    }
   ],
   "source": [
    "ran"
   ]
  },
  {
   "cell_type": "code",
   "execution_count": 16,
   "id": "c3953dd6-8784-4518-ad04-6d1d63f7f712",
   "metadata": {},
   "outputs": [],
   "source": [
    "ln = np.linspace(0,100,10)"
   ]
  },
  {
   "cell_type": "code",
   "execution_count": 17,
   "id": "df427a96-d400-472f-a406-3ac6bd38997c",
   "metadata": {},
   "outputs": [
    {
     "data": {
      "text/plain": [
       "array([  0.        ,  11.11111111,  22.22222222,  33.33333333,\n",
       "        44.44444444,  55.55555556,  66.66666667,  77.77777778,\n",
       "        88.88888889, 100.        ])"
      ]
     },
     "execution_count": 17,
     "metadata": {},
     "output_type": "execute_result"
    }
   ],
   "source": [
    "ln"
   ]
  },
  {
   "cell_type": "code",
   "execution_count": 18,
   "id": "c1076d9a-d08a-4bb0-9c34-4067f351e842",
   "metadata": {},
   "outputs": [],
   "source": [
    "# 2D Arrays\n",
    "ar2 = np.array([[1,2,3], [4,5,6], [7,8,9]])"
   ]
  },
  {
   "cell_type": "code",
   "execution_count": 19,
   "id": "5aa08e62-d29e-43fa-80cc-a60a00234346",
   "metadata": {},
   "outputs": [
    {
     "data": {
      "text/plain": [
       "array([[1, 2, 3],\n",
       "       [4, 5, 6],\n",
       "       [7, 8, 9]])"
      ]
     },
     "execution_count": 19,
     "metadata": {},
     "output_type": "execute_result"
    }
   ],
   "source": [
    "ar2"
   ]
  },
  {
   "cell_type": "code",
   "execution_count": 20,
   "id": "558538b0-cad5-49b8-bb9d-e4d31d0f7f17",
   "metadata": {},
   "outputs": [
    {
     "data": {
      "text/plain": [
       "array([[0., 0., 0., 0., 0.],\n",
       "       [0., 0., 0., 0., 0.],\n",
       "       [0., 0., 0., 0., 0.],\n",
       "       [0., 0., 0., 0., 0.],\n",
       "       [0., 0., 0., 0., 0.]])"
      ]
     },
     "execution_count": 20,
     "metadata": {},
     "output_type": "execute_result"
    }
   ],
   "source": [
    "Z=np.zeros([5,5])\n",
    "Z"
   ]
  },
  {
   "cell_type": "code",
   "execution_count": 21,
   "id": "b6d84481-171d-423d-b107-7e7220a2f34b",
   "metadata": {},
   "outputs": [
    {
     "data": {
      "text/plain": [
       "array([[1., 1., 1., 1., 1.],\n",
       "       [1., 1., 1., 1., 1.],\n",
       "       [1., 1., 1., 1., 1.],\n",
       "       [1., 1., 1., 1., 1.],\n",
       "       [1., 1., 1., 1., 1.]])"
      ]
     },
     "execution_count": 21,
     "metadata": {},
     "output_type": "execute_result"
    }
   ],
   "source": [
    "o1 = np.ones([5,5])\n",
    "o1"
   ]
  },
  {
   "cell_type": "code",
   "execution_count": 22,
   "id": "486598c4-bca7-497d-a825-e1d73a045707",
   "metadata": {},
   "outputs": [
    {
     "data": {
      "text/plain": [
       "array([[1., 0., 0., 0., 0.],\n",
       "       [0., 1., 0., 0., 0.],\n",
       "       [0., 0., 1., 0., 0.],\n",
       "       [0., 0., 0., 1., 0.],\n",
       "       [0., 0., 0., 0., 1.]])"
      ]
     },
     "execution_count": 22,
     "metadata": {},
     "output_type": "execute_result"
    }
   ],
   "source": [
    "# Identity Matrix\n",
    "I = np.eye(5)\n",
    "I"
   ]
  },
  {
   "cell_type": "code",
   "execution_count": 23,
   "id": "cb484451-9899-4ce2-af58-8d531d3b46e4",
   "metadata": {},
   "outputs": [
    {
     "data": {
      "text/plain": [
       "array([[0.77929469, 0.32148031, 0.00392272, 0.86172136],\n",
       "       [0.84386208, 0.96036734, 0.50366532, 0.95628965],\n",
       "       [0.0721157 , 0.40546184, 0.22593466, 0.36200107],\n",
       "       [0.55567622, 0.80277993, 0.35042163, 0.85463506],\n",
       "       [0.01470816, 0.05888661, 0.49030758, 0.55740536],\n",
       "       [0.85809636, 0.16685936, 0.77645114, 0.13399865],\n",
       "       [0.65784094, 0.71273972, 0.63028722, 0.80114353],\n",
       "       [0.81080034, 0.825163  , 0.48540922, 0.63655726],\n",
       "       [0.67035021, 0.05957507, 0.54342911, 0.48585214]])"
      ]
     },
     "execution_count": 23,
     "metadata": {},
     "output_type": "execute_result"
    }
   ],
   "source": [
    "r1 = np.random.rand(9,4,)\n",
    "r1"
   ]
  },
  {
   "cell_type": "code",
   "execution_count": 24,
   "id": "3bd4db2a-aa4b-45a3-9edb-c6686d3257cd",
   "metadata": {},
   "outputs": [
    {
     "data": {
      "text/plain": [
       "array([1, 2, 3, 4, 5])"
      ]
     },
     "execution_count": 24,
     "metadata": {},
     "output_type": "execute_result"
    }
   ],
   "source": [
    "arr"
   ]
  },
  {
   "cell_type": "code",
   "execution_count": 25,
   "id": "d450a5d9-4a7e-4033-af60-84e4987e353f",
   "metadata": {},
   "outputs": [
    {
     "data": {
      "text/plain": [
       "array([[1, 2, 3],\n",
       "       [4, 5, 6],\n",
       "       [7, 8, 9]])"
      ]
     },
     "execution_count": 25,
     "metadata": {},
     "output_type": "execute_result"
    }
   ],
   "source": [
    "ar2"
   ]
  },
  {
   "cell_type": "code",
   "execution_count": 26,
   "id": "18c8e1ea-99cc-450e-8a4d-9bee7f780886",
   "metadata": {},
   "outputs": [
    {
     "name": "stdout",
     "output_type": "stream",
     "text": [
      "5\n"
     ]
    }
   ],
   "source": [
    "print(arr.size)"
   ]
  },
  {
   "cell_type": "code",
   "execution_count": 27,
   "id": "d9b44f8c-2c9c-4b3c-bbf3-e77622ca09b2",
   "metadata": {},
   "outputs": [
    {
     "name": "stdout",
     "output_type": "stream",
     "text": [
      "9\n"
     ]
    }
   ],
   "source": [
    "print(ar2.size)"
   ]
  },
  {
   "cell_type": "code",
   "execution_count": 28,
   "id": "601bc034-ef9a-43fd-b52a-589f92fe3765",
   "metadata": {},
   "outputs": [
    {
     "name": "stdout",
     "output_type": "stream",
     "text": [
      "(5,)\n"
     ]
    }
   ],
   "source": [
    "print(arr.shape)"
   ]
  },
  {
   "cell_type": "code",
   "execution_count": 29,
   "id": "e30e60fd-f8fb-4946-a6be-c03dff02f463",
   "metadata": {},
   "outputs": [
    {
     "name": "stdout",
     "output_type": "stream",
     "text": [
      "(3, 3)\n"
     ]
    }
   ],
   "source": [
    "print(ar2.shape)"
   ]
  },
  {
   "cell_type": "code",
   "execution_count": 30,
   "id": "d46b648a-b695-477a-958e-f9747f2f4643",
   "metadata": {},
   "outputs": [
    {
     "data": {
      "text/plain": [
       "array([[1, 2, 3],\n",
       "       [4, 5, 6],\n",
       "       [7, 8, 9]])"
      ]
     },
     "execution_count": 30,
     "metadata": {},
     "output_type": "execute_result"
    }
   ],
   "source": [
    "# Operations in Array\n",
    "ar3 = np.copy(ar2)\n",
    "ar3"
   ]
  },
  {
   "cell_type": "code",
   "execution_count": 31,
   "id": "0d736253-c339-436b-aa98-6b2661b52341",
   "metadata": {},
   "outputs": [],
   "source": [
    "ar3[2,2] = 10"
   ]
  },
  {
   "cell_type": "code",
   "execution_count": 32,
   "id": "5104e693-b0b8-44f2-830e-4ea61bfb3ce1",
   "metadata": {},
   "outputs": [
    {
     "data": {
      "text/plain": [
       "array([[ 1,  2,  3],\n",
       "       [ 4,  5,  6],\n",
       "       [ 7,  8, 10]])"
      ]
     },
     "execution_count": 32,
     "metadata": {},
     "output_type": "execute_result"
    }
   ],
   "source": [
    "ar3"
   ]
  },
  {
   "cell_type": "code",
   "execution_count": 33,
   "id": "0de68d7c-f3e7-4383-93ae-b120da6af289",
   "metadata": {},
   "outputs": [
    {
     "data": {
      "text/plain": [
       "array([[ 1, 15,  3],\n",
       "       [ 4,  5, 12],\n",
       "       [ 7,  8, 10]])"
      ]
     },
     "execution_count": 33,
     "metadata": {},
     "output_type": "execute_result"
    }
   ],
   "source": [
    "ar3[1,2] =12\n",
    "ar3[0,1] =15\n",
    "ar3"
   ]
  },
  {
   "cell_type": "code",
   "execution_count": 34,
   "id": "0e74da06-dad7-4063-ae36-fbb4037ad39e",
   "metadata": {},
   "outputs": [
    {
     "data": {
      "text/plain": [
       "array([[ 1,  3, 15],\n",
       "       [ 4,  5, 12],\n",
       "       [ 7,  8, 10]])"
      ]
     },
     "execution_count": 34,
     "metadata": {},
     "output_type": "execute_result"
    }
   ],
   "source": [
    "ar3 = np.sort(ar3)\n",
    "ar3"
   ]
  },
  {
   "cell_type": "code",
   "execution_count": 35,
   "id": "950dedda-b7ee-4e3e-9431-ea672658fbef",
   "metadata": {},
   "outputs": [
    {
     "data": {
      "text/plain": [
       "array([[ 1,  3, 10],\n",
       "       [ 4,  5, 12],\n",
       "       [ 7,  8, 15]])"
      ]
     },
     "execution_count": 35,
     "metadata": {},
     "output_type": "execute_result"
    }
   ],
   "source": [
    "ar3 = np.sort(ar3,axis = 0)\n",
    "ar3"
   ]
  },
  {
   "cell_type": "code",
   "execution_count": 36,
   "id": "7a8d3334-ee97-42ba-af90-df3196aa37b2",
   "metadata": {},
   "outputs": [
    {
     "data": {
      "text/plain": [
       "array([12, 16, 37])"
      ]
     },
     "execution_count": 36,
     "metadata": {},
     "output_type": "execute_result"
    }
   ],
   "source": [
    "ar3.sum(axis = 0)"
   ]
  },
  {
   "cell_type": "code",
   "execution_count": 37,
   "id": "14f661ac-c285-4b12-ba76-6e160aa3317e",
   "metadata": {},
   "outputs": [
    {
     "data": {
      "text/plain": [
       "array([14, 21, 30])"
      ]
     },
     "execution_count": 37,
     "metadata": {},
     "output_type": "execute_result"
    }
   ],
   "source": [
    "ar3.sum(axis = 1)"
   ]
  },
  {
   "cell_type": "code",
   "execution_count": 38,
   "id": "aa75d198-7093-4280-9b2f-9af01faf5bb7",
   "metadata": {},
   "outputs": [
    {
     "data": {
      "text/plain": [
       "array([0.56048223, 0.12235869, 0.29524405, 0.66479709, 0.04950937,\n",
       "       0.41039283, 0.46483273, 0.64500201, 0.59590445, 0.73068386,\n",
       "       0.16768282, 0.01441076, 0.96656914, 0.9362982 , 0.42947634,\n",
       "       0.89113398, 0.31742272, 0.06770056, 0.69941924, 0.69870547,\n",
       "       0.90532926, 0.83889147, 0.62122177, 0.0805675 , 0.06784512,\n",
       "       0.91037613, 0.58681381, 0.15197717, 0.21153147, 0.53852067,\n",
       "       0.78376259, 0.33273701, 0.45836348, 0.71493502, 0.40134958,\n",
       "       0.37688136, 0.14267031, 0.31577573, 0.19596272, 0.78400419,\n",
       "       0.0551179 , 0.32536288, 0.64988101, 0.1890081 , 0.4733643 ,\n",
       "       0.94473955, 0.22704807, 0.96597022, 0.90782289, 0.69103823,\n",
       "       0.95860772, 0.83956465, 0.17754683, 0.19867257, 0.37042183,\n",
       "       0.1115707 , 0.52770652, 0.21616731, 0.10559888, 0.14282051,\n",
       "       0.72879728, 0.23809954, 0.52577536, 0.20084451, 0.93511611,\n",
       "       0.52033361, 0.4394529 , 0.52476684, 0.06150722, 0.40015789,\n",
       "       0.4838782 , 0.86937463, 0.91635062, 0.36286194, 0.39615211,\n",
       "       0.15509079, 0.65163928, 0.90625393, 0.06036981, 0.18713344,\n",
       "       0.91371844, 0.15115753, 0.19558312, 0.2900746 , 0.62345402,\n",
       "       0.05321487, 0.03456718, 0.99874369, 0.77012875, 0.28140075,\n",
       "       0.77243419, 0.15619833, 0.67100127, 0.00752648, 0.27490209,\n",
       "       0.19823736, 0.17266839, 0.14818252, 0.47835976])"
      ]
     },
     "execution_count": 38,
     "metadata": {},
     "output_type": "execute_result"
    }
   ],
   "source": [
    "ar4 = np.random.rand(99)\n",
    "ar4"
   ]
  },
  {
   "cell_type": "code",
   "execution_count": 39,
   "id": "af0dcf76-d119-482d-a98b-8d3ee95d0730",
   "metadata": {},
   "outputs": [
    {
     "data": {
      "text/plain": [
       "array([[0.41198512, 0.67567918, 0.21815632, 0.99145211, 0.97769652],\n",
       "       [0.34671538, 0.91960098, 0.06301933, 0.96466329, 0.51516739],\n",
       "       [0.41081375, 0.56898173, 0.58614911, 0.46127555, 0.54251721],\n",
       "       [0.44627538, 0.33490073, 0.64321307, 0.12719505, 0.17465621],\n",
       "       [0.31873561, 0.49658328, 0.6428368 , 0.46517576, 0.45545671]])"
      ]
     },
     "execution_count": 39,
     "metadata": {},
     "output_type": "execute_result"
    }
   ],
   "source": [
    "x = np.random.rand(5,5)\n",
    "x"
   ]
  },
  {
   "cell_type": "code",
   "execution_count": 40,
   "id": "cb20b4f7-5583-488a-9012-86f7649b9151",
   "metadata": {},
   "outputs": [
    {
     "data": {
      "text/plain": [
       "array([[[0.04411184, 0.36526546, 0.86206239, 0.74599964, 0.50798409],\n",
       "        [0.92201953, 0.3204506 , 0.54357531, 0.14544996, 0.5054575 ],\n",
       "        [0.86032036, 0.12386683, 0.2891101 , 0.5575588 , 0.64631642],\n",
       "        [0.89029037, 0.87848443, 0.95266973, 0.53819143, 0.7926369 ],\n",
       "        [0.14213453, 0.30423256, 0.34664526, 0.68030424, 0.84961744]],\n",
       "\n",
       "       [[0.4366639 , 0.92206538, 0.89521782, 0.13222358, 0.06108128],\n",
       "        [0.13719806, 0.22786539, 0.51289657, 0.98355211, 0.1522057 ],\n",
       "        [0.01486898, 0.70737046, 0.23372572, 0.46931839, 0.34047434],\n",
       "        [0.39072121, 0.52251334, 0.69496042, 0.31474018, 0.05249923],\n",
       "        [0.09037249, 0.05167243, 0.84002045, 0.18501804, 0.40165229]],\n",
       "\n",
       "       [[0.28057745, 0.5771532 , 0.34254967, 0.38421023, 0.26409135],\n",
       "        [0.43248653, 0.15213681, 0.05369731, 0.80391895, 0.5968034 ],\n",
       "        [0.61337614, 0.99017081, 0.74667936, 0.88117481, 0.43498114],\n",
       "        [0.43443352, 0.56788445, 0.56879635, 0.24069943, 0.37193176],\n",
       "        [0.74930999, 0.04632167, 0.82847128, 0.10657026, 0.4558904 ]],\n",
       "\n",
       "       [[0.8997431 , 0.04916276, 0.92550667, 0.5405594 , 0.60690504],\n",
       "        [0.54079137, 0.67450305, 0.37353258, 0.76585768, 0.69215182],\n",
       "        [0.24448204, 0.86622351, 0.85402978, 0.12912417, 0.61677279],\n",
       "        [0.41278149, 0.20647643, 0.96377541, 0.49068998, 0.83001522],\n",
       "        [0.09054967, 0.34364322, 0.85638867, 0.32692688, 0.52774269]],\n",
       "\n",
       "       [[0.18834259, 0.1537323 , 0.56533707, 0.99340714, 0.46792775],\n",
       "        [0.32479733, 0.43537032, 0.04482894, 0.12317205, 0.08596772],\n",
       "        [0.04700852, 0.72495923, 0.10824123, 0.99154383, 0.51615725],\n",
       "        [0.6073881 , 0.96349516, 0.23149248, 0.36296215, 0.52433118],\n",
       "        [0.02371186, 0.19592043, 0.98041274, 0.8882241 , 0.94208261]]])"
      ]
     },
     "execution_count": 40,
     "metadata": {},
     "output_type": "execute_result"
    }
   ],
   "source": [
    "x = np.random.rand(5,5,5)\n",
    "x"
   ]
  },
  {
   "cell_type": "code",
   "execution_count": 41,
   "id": "503b7f9a-56e3-46dd-9101-302d665f7f28",
   "metadata": {},
   "outputs": [
    {
     "name": "stdout",
     "output_type": "stream",
     "text": [
      "5\n"
     ]
    }
   ],
   "source": [
    "print(arr.size)"
   ]
  },
  {
   "cell_type": "code",
   "execution_count": 42,
   "id": "ef874030-60d3-47b7-ab98-47734772250f",
   "metadata": {},
   "outputs": [
    {
     "name": "stdout",
     "output_type": "stream",
     "text": [
      "9\n"
     ]
    }
   ],
   "source": [
    "print(ar2.size)"
   ]
  },
  {
   "cell_type": "code",
   "execution_count": 43,
   "id": "97280cf4-d4e4-43d6-90ec-8c2f844c55fe",
   "metadata": {},
   "outputs": [
    {
     "name": "stdout",
     "output_type": "stream",
     "text": [
      "(10,)\n"
     ]
    }
   ],
   "source": [
    "print(ar.shape)"
   ]
  },
  {
   "cell_type": "code",
   "execution_count": 44,
   "id": "6f1d7885-92d0-4aa7-a7b3-dd64cd650147",
   "metadata": {},
   "outputs": [
    {
     "name": "stdout",
     "output_type": "stream",
     "text": [
      "(3, 3)\n"
     ]
    }
   ],
   "source": [
    "print(ar2.shape)"
   ]
  },
  {
   "cell_type": "code",
   "execution_count": 45,
   "id": "4c3a0b3f-d399-433d-b24c-8f0315439b4e",
   "metadata": {},
   "outputs": [
    {
     "data": {
      "text/plain": [
       "array([[1, 2, 3],\n",
       "       [4, 5, 6],\n",
       "       [7, 8, 9]])"
      ]
     },
     "execution_count": 45,
     "metadata": {},
     "output_type": "execute_result"
    }
   ],
   "source": [
    "arr3 = np.copy(ar2)\n",
    "arr3"
   ]
  },
  {
   "cell_type": "code",
   "execution_count": 46,
   "id": "df8cbc54-1474-4a26-ad32-81f42c31d6da",
   "metadata": {},
   "outputs": [
    {
     "data": {
      "text/plain": [
       "array([[ 1,  2,  3],\n",
       "       [ 4,  5,  6],\n",
       "       [ 7,  8, 10]])"
      ]
     },
     "execution_count": 46,
     "metadata": {},
     "output_type": "execute_result"
    }
   ],
   "source": [
    "arr3[2,2] = 10\n",
    "arr3"
   ]
  },
  {
   "cell_type": "code",
   "execution_count": 47,
   "id": "2e879e14-ceed-449e-b52b-7d050e3497ee",
   "metadata": {},
   "outputs": [
    {
     "data": {
      "text/plain": [
       "array([[ 1,  2,  3],\n",
       "       [ 4,  5, 12],\n",
       "       [ 7, 15, 10]])"
      ]
     },
     "execution_count": 47,
     "metadata": {},
     "output_type": "execute_result"
    }
   ],
   "source": [
    "arr3[1,2] =12\n",
    "arr3[2,1] = 15\n",
    "arr3"
   ]
  },
  {
   "cell_type": "code",
   "execution_count": 48,
   "id": "fc749fc9-5fc6-44ef-92ee-d070a1130bf5",
   "metadata": {},
   "outputs": [
    {
     "data": {
      "text/plain": [
       "array([[ 1,  2,  3],\n",
       "       [ 4,  5, 12],\n",
       "       [ 7, 10, 15]])"
      ]
     },
     "execution_count": 48,
     "metadata": {},
     "output_type": "execute_result"
    }
   ],
   "source": [
    "arr3 = np.sort(arr3)\n",
    "arr3"
   ]
  },
  {
   "cell_type": "code",
   "execution_count": 49,
   "id": "cbf48e56-c18b-49f0-bde8-bed112dc31fc",
   "metadata": {},
   "outputs": [
    {
     "data": {
      "text/plain": [
       "array([0, 1, 2, 3, 4, 5, 6, 7, 8, 9])"
      ]
     },
     "execution_count": 49,
     "metadata": {},
     "output_type": "execute_result"
    }
   ],
   "source": [
    "ar"
   ]
  },
  {
   "cell_type": "code",
   "execution_count": 50,
   "id": "64d912df-cfbf-4bea-a74b-9633511ce6ab",
   "metadata": {},
   "outputs": [
    {
     "data": {
      "text/plain": [
       "array([ 0,  1,  2,  3,  4,  5,  6,  7,  8,  9, 20])"
      ]
     },
     "execution_count": 50,
     "metadata": {},
     "output_type": "execute_result"
    }
   ],
   "source": [
    "np.append(ar, 20)"
   ]
  },
  {
   "cell_type": "code",
   "execution_count": 51,
   "id": "a340c184-8664-49f3-9568-7ee998fd5cf7",
   "metadata": {},
   "outputs": [
    {
     "data": {
      "text/plain": [
       "array([ 0,  1,  2,  3,  4,  5,  6,  7,  8,  9, 20])"
      ]
     },
     "execution_count": 51,
     "metadata": {},
     "output_type": "execute_result"
    }
   ],
   "source": [
    "ar = np.append(ar,20)\n",
    "ar"
   ]
  },
  {
   "cell_type": "code",
   "execution_count": 52,
   "id": "9a1c6e87-6586-47a1-b1d8-e2a65901fc86",
   "metadata": {},
   "outputs": [
    {
     "data": {
      "text/plain": [
       "array([ 0,  1,  2,  3,  4,  5,  7,  8,  9, 20])"
      ]
     },
     "execution_count": 52,
     "metadata": {},
     "output_type": "execute_result"
    }
   ],
   "source": [
    "ar = np.delete(ar, 6, axis = 0)\n",
    "ar"
   ]
  },
  {
   "cell_type": "code",
   "execution_count": 53,
   "id": "75d96615-30ae-4568-aa70-d2aa49c3e869",
   "metadata": {},
   "outputs": [
    {
     "data": {
      "text/plain": [
       "array([ 0,  1,  2,  3,  4,  5,  6,  7,  8,  9, 20])"
      ]
     },
     "execution_count": 53,
     "metadata": {},
     "output_type": "execute_result"
    }
   ],
   "source": [
    "ar = np.insert(ar,6,6)\n",
    "ar"
   ]
  },
  {
   "cell_type": "code",
   "execution_count": 54,
   "id": "27172863-c58a-41c6-9ee7-8ece3e042e9c",
   "metadata": {},
   "outputs": [
    {
     "data": {
      "text/plain": [
       "array([[1, 2, 3],\n",
       "       [4, 5, 6],\n",
       "       [7, 8, 9]])"
      ]
     },
     "execution_count": 54,
     "metadata": {},
     "output_type": "execute_result"
    }
   ],
   "source": [
    "#Concatention\n",
    "ar2"
   ]
  },
  {
   "cell_type": "code",
   "execution_count": 55,
   "id": "303e6cb8-2523-412e-ad9f-932f9c0841f4",
   "metadata": {},
   "outputs": [
    {
     "data": {
      "text/plain": [
       "array([[ 1,  3, 10],\n",
       "       [ 4,  5, 12],\n",
       "       [ 7,  8, 15]])"
      ]
     },
     "execution_count": 55,
     "metadata": {},
     "output_type": "execute_result"
    }
   ],
   "source": [
    "ar3"
   ]
  },
  {
   "cell_type": "code",
   "execution_count": 56,
   "id": "c53fc902-a601-44d5-a1d3-5329552a8cb4",
   "metadata": {},
   "outputs": [
    {
     "data": {
      "text/plain": [
       "array([[ 1,  2,  3],\n",
       "       [ 4,  5,  6],\n",
       "       [ 7,  8,  9],\n",
       "       [ 1,  3, 10],\n",
       "       [ 4,  5, 12],\n",
       "       [ 7,  8, 15]])"
      ]
     },
     "execution_count": 56,
     "metadata": {},
     "output_type": "execute_result"
    }
   ],
   "source": [
    "ar4 = np.concatenate((ar2, ar3),axis = 0)\n",
    "ar4"
   ]
  },
  {
   "cell_type": "code",
   "execution_count": 57,
   "id": "77e3bea5-ce9d-41f0-86bb-356199ff5cca",
   "metadata": {},
   "outputs": [
    {
     "data": {
      "text/plain": [
       "array([[ 1,  2,  3,  1,  3, 10],\n",
       "       [ 4,  5,  6,  4,  5, 12],\n",
       "       [ 7,  8,  9,  7,  8, 15]])"
      ]
     },
     "execution_count": 57,
     "metadata": {},
     "output_type": "execute_result"
    }
   ],
   "source": [
    "ar5 = np.concatenate((ar2, ar3),axis = 1)\n",
    "ar5"
   ]
  },
  {
   "cell_type": "code",
   "execution_count": 58,
   "id": "26f0d5be-2b7f-4658-aeb7-1e18035be9c2",
   "metadata": {},
   "outputs": [
    {
     "data": {
      "text/plain": [
       "[array([[1, 2, 3],\n",
       "        [4, 5, 6]]),\n",
       " array([[ 7,  8,  9],\n",
       "        [ 1,  3, 10]]),\n",
       " array([[ 4,  5, 12],\n",
       "        [ 7,  8, 15]])]"
      ]
     },
     "execution_count": 58,
     "metadata": {},
     "output_type": "execute_result"
    }
   ],
   "source": [
    "# Using Split function\n",
    "np.split(ar4,3)"
   ]
  },
  {
   "cell_type": "code",
   "execution_count": 59,
   "id": "659d983d-443a-4abf-a4c7-6845f60f2ba8",
   "metadata": {},
   "outputs": [
    {
     "data": {
      "text/plain": [
       "[array([[1, 2, 3],\n",
       "        [4, 5, 6]]),\n",
       " array([[ 7,  8,  9],\n",
       "        [ 1,  3, 10]]),\n",
       " array([[ 4,  5, 12],\n",
       "        [ 7,  8, 15]])]"
      ]
     },
     "execution_count": 59,
     "metadata": {},
     "output_type": "execute_result"
    }
   ],
   "source": [
    "ar6 = np.split(ar4,3)\n",
    "ar6"
   ]
  },
  {
   "cell_type": "code",
   "execution_count": 60,
   "id": "fccd6a00-4211-41af-8fb9-747b09650fc7",
   "metadata": {},
   "outputs": [
    {
     "data": {
      "text/plain": [
       "array([[ 2,  3,  4,  2,  4, 11],\n",
       "       [ 5,  6,  7,  5,  6, 13],\n",
       "       [ 8,  9, 10,  8,  9, 16]])"
      ]
     },
     "execution_count": 60,
     "metadata": {},
     "output_type": "execute_result"
    }
   ],
   "source": [
    "# Scaler Expressions\n",
    "# Addition\n",
    "np.add(ar5,1)"
   ]
  },
  {
   "cell_type": "code",
   "execution_count": 61,
   "id": "591eeadf-7dbf-44af-a083-5155028687e4",
   "metadata": {},
   "outputs": [
    {
     "data": {
      "text/plain": [
       "array([[ 0,  1,  2,  0,  2,  9],\n",
       "       [ 3,  4,  5,  3,  4, 11],\n",
       "       [ 6,  7,  8,  6,  7, 14]])"
      ]
     },
     "execution_count": 61,
     "metadata": {},
     "output_type": "execute_result"
    }
   ],
   "source": [
    "# Subtraction\n",
    "np.subtract(ar5,1)"
   ]
  },
  {
   "cell_type": "code",
   "execution_count": 62,
   "id": "d10c92a3-2025-4a84-a8fa-0314bb97d83b",
   "metadata": {},
   "outputs": [
    {
     "data": {
      "text/plain": [
       "array([[ 1,  2,  3,  1,  3, 10],\n",
       "       [ 4,  5,  6,  4,  5, 12],\n",
       "       [ 7,  8,  9,  7,  8, 15]])"
      ]
     },
     "execution_count": 62,
     "metadata": {},
     "output_type": "execute_result"
    }
   ],
   "source": [
    "# Multiplication\n",
    "np.multiply(ar5,1)"
   ]
  },
  {
   "cell_type": "code",
   "execution_count": 63,
   "id": "e790be49-53dd-42c8-b394-b496d41f323b",
   "metadata": {},
   "outputs": [
    {
     "data": {
      "text/plain": [
       "array([[ 1.,  2.,  3.,  1.,  3., 10.],\n",
       "       [ 4.,  5.,  6.,  4.,  5., 12.],\n",
       "       [ 7.,  8.,  9.,  7.,  8., 15.]])"
      ]
     },
     "execution_count": 63,
     "metadata": {},
     "output_type": "execute_result"
    }
   ],
   "source": [
    "# Divide \n",
    "np.divide(ar5,1)"
   ]
  },
  {
   "cell_type": "markdown",
   "id": "af5a52af-dd6a-467e-ad0c-c44fbb9faa20",
   "metadata": {},
   "source": [
    "Vector Operations"
   ]
  },
  {
   "cell_type": "code",
   "execution_count": 64,
   "id": "963d082d-dea2-4d3f-a41a-e80ec42861e5",
   "metadata": {},
   "outputs": [
    {
     "data": {
      "text/plain": [
       "[array([[1, 2, 3],\n",
       "        [4, 5, 6]]),\n",
       " array([[ 7,  8,  9],\n",
       "        [ 1,  3, 10]]),\n",
       " array([[ 4,  5, 12],\n",
       "        [ 7,  8, 15]])]"
      ]
     },
     "execution_count": 64,
     "metadata": {},
     "output_type": "execute_result"
    }
   ],
   "source": [
    "ar6"
   ]
  },
  {
   "cell_type": "code",
   "execution_count": 65,
   "id": "57d50a15-1a9a-4fd7-a395-f1eded6317c5",
   "metadata": {},
   "outputs": [
    {
     "data": {
      "text/plain": [
       "array([[ 8, 10, 12],\n",
       "       [ 5,  8, 16]])"
      ]
     },
     "execution_count": 65,
     "metadata": {},
     "output_type": "execute_result"
    }
   ],
   "source": [
    "# Addition\n",
    "ar7 = np.add(ar6[0],ar6[1])\n",
    "ar7"
   ]
  },
  {
   "cell_type": "code",
   "execution_count": 66,
   "id": "6a4370f0-70df-4fa0-bdf5-164d3cd44b2f",
   "metadata": {},
   "outputs": [
    {
     "data": {
      "text/plain": [
       "array([[-6, -6, -6],\n",
       "       [ 3,  2, -4]])"
      ]
     },
     "execution_count": 66,
     "metadata": {},
     "output_type": "execute_result"
    }
   ],
   "source": [
    "# Subtraction\n",
    "ar8 = np.subtract(ar6[0],ar6[1])\n",
    "ar8"
   ]
  },
  {
   "cell_type": "code",
   "execution_count": 67,
   "id": "365172e8-d342-46fd-a980-2edf5ce4e1f1",
   "metadata": {},
   "outputs": [
    {
     "data": {
      "text/plain": [
       "array([[ 7, 16, 27],\n",
       "       [ 4, 15, 60]])"
      ]
     },
     "execution_count": 67,
     "metadata": {},
     "output_type": "execute_result"
    }
   ],
   "source": [
    "# Multiplication\n",
    "ar9 = np.multiply(ar6[0],ar6[1])\n",
    "ar9"
   ]
  },
  {
   "cell_type": "code",
   "execution_count": 68,
   "id": "cf9786f4-1615-4215-9c77-36243f52c668",
   "metadata": {},
   "outputs": [
    {
     "data": {
      "text/plain": [
       "array([[0.14285714, 0.25      , 0.33333333],\n",
       "       [4.        , 1.66666667, 0.6       ]])"
      ]
     },
     "execution_count": 68,
     "metadata": {},
     "output_type": "execute_result"
    }
   ],
   "source": [
    "# Divide\n",
    "ar10 = np.divide(ar6[0],ar6[1])\n",
    "ar10"
   ]
  },
  {
   "cell_type": "code",
   "execution_count": 69,
   "id": "57e10137-a3bd-488f-8390-e58ddfa25884",
   "metadata": {},
   "outputs": [
    {
     "data": {
      "text/plain": [
       "array([[ 7., 16., 27.],\n",
       "       [ 4., 15., 60.]])"
      ]
     },
     "execution_count": 69,
     "metadata": {},
     "output_type": "execute_result"
    }
   ],
   "source": [
    "np.ceil(ar9)"
   ]
  },
  {
   "cell_type": "code",
   "execution_count": 70,
   "id": "118563de-0064-4058-8f47-dd9074add48c",
   "metadata": {},
   "outputs": [
    {
     "data": {
      "text/plain": [
       "array([[ 7., 16., 27.],\n",
       "       [ 4., 15., 60.]])"
      ]
     },
     "execution_count": 70,
     "metadata": {},
     "output_type": "execute_result"
    }
   ],
   "source": [
    "np.floor(ar9)"
   ]
  },
  {
   "cell_type": "code",
   "execution_count": 71,
   "id": "03980916-46c3-4360-9474-2298c99b16c8",
   "metadata": {},
   "outputs": [
    {
     "data": {
      "text/plain": [
       "array([[ 7, 16, 27],\n",
       "       [ 4, 15, 60]])"
      ]
     },
     "execution_count": 71,
     "metadata": {},
     "output_type": "execute_result"
    }
   ],
   "source": [
    "np.round(ar9)"
   ]
  },
  {
   "cell_type": "markdown",
   "id": "7d2aadfc-f3d8-45e6-b0b3-279cdb93bbc2",
   "metadata": {},
   "source": [
    "# Statistics"
   ]
  },
  {
   "cell_type": "code",
   "execution_count": 72,
   "id": "2496ec67-5af0-4cd7-ad15-66842e8fcecc",
   "metadata": {},
   "outputs": [
    {
     "data": {
      "text/plain": [
       "np.float64(6.111111111111111)"
      ]
     },
     "execution_count": 72,
     "metadata": {},
     "output_type": "execute_result"
    }
   ],
   "source": [
    "np.mean(ar5)"
   ]
  },
  {
   "cell_type": "code",
   "execution_count": 73,
   "id": "56810645-8e3d-4238-830a-1c644bc36b84",
   "metadata": {},
   "outputs": [
    {
     "data": {
      "text/plain": [
       "array([ 4.        ,  5.        ,  6.        ,  4.        ,  5.33333333,\n",
       "       12.33333333])"
      ]
     },
     "execution_count": 73,
     "metadata": {},
     "output_type": "execute_result"
    }
   ],
   "source": [
    "np.mean(ar5,axis = 0)"
   ]
  },
  {
   "cell_type": "code",
   "execution_count": 74,
   "id": "d3529cb8-e1c6-4b6a-bbda-7c97b730d886",
   "metadata": {},
   "outputs": [
    {
     "data": {
      "text/plain": [
       "array([3.33333333, 6.        , 9.        ])"
      ]
     },
     "execution_count": 74,
     "metadata": {},
     "output_type": "execute_result"
    }
   ],
   "source": [
    "np.mean(ar5, axis = 1)"
   ]
  },
  {
   "cell_type": "code",
   "execution_count": 75,
   "id": "ea1abfc6-b5ff-49d9-bacd-ccb1c211aee9",
   "metadata": {},
   "outputs": [
    {
     "data": {
      "text/plain": [
       "array([2.5, 5. , 8. ])"
      ]
     },
     "execution_count": 75,
     "metadata": {},
     "output_type": "execute_result"
    }
   ],
   "source": [
    "np.median(ar5, axis = 1)"
   ]
  },
  {
   "cell_type": "code",
   "execution_count": 76,
   "id": "74996ba9-536e-4238-ba7f-09ce0d5f401e",
   "metadata": {},
   "outputs": [
    {
     "data": {
      "text/plain": [
       "np.int64(1)"
      ]
     },
     "execution_count": 76,
     "metadata": {},
     "output_type": "execute_result"
    }
   ],
   "source": [
    "np.min(ar5)"
   ]
  },
  {
   "cell_type": "code",
   "execution_count": 77,
   "id": "7e00249d-0887-4fff-b9ee-489ee1730329",
   "metadata": {},
   "outputs": [
    {
     "data": {
      "text/plain": [
       "array([ 1,  2,  3,  1,  3, 10])"
      ]
     },
     "execution_count": 77,
     "metadata": {},
     "output_type": "execute_result"
    }
   ],
   "source": [
    "np.min(ar5, axis = 0)"
   ]
  },
  {
   "cell_type": "code",
   "execution_count": 78,
   "id": "13cf382e-ccb0-4ddf-97c8-f954d4acb147",
   "metadata": {},
   "outputs": [
    {
     "data": {
      "text/plain": [
       "array([ 7,  8,  9,  7,  8, 15])"
      ]
     },
     "execution_count": 78,
     "metadata": {},
     "output_type": "execute_result"
    }
   ],
   "source": [
    "np.max(ar5, axis = 0)"
   ]
  },
  {
   "cell_type": "code",
   "execution_count": 79,
   "id": "6ee38bae-8408-42bc-9088-a7d97f18706e",
   "metadata": {},
   "outputs": [
    {
     "data": {
      "text/plain": [
       "array([[ 1,  2,  3,  1,  3, 10],\n",
       "       [ 4,  5,  6,  4,  5, 12],\n",
       "       [ 7,  8,  9,  7,  8, 15]])"
      ]
     },
     "execution_count": 79,
     "metadata": {},
     "output_type": "execute_result"
    }
   ],
   "source": [
    "ar10 = np.array([2,5,3,8,0,4,1,6,9])\n",
    "ar5"
   ]
  },
  {
   "cell_type": "code",
   "execution_count": 80,
   "id": "d0396393-bdff-4d11-b595-ebb424068484",
   "metadata": {},
   "outputs": [
    {
     "data": {
      "text/plain": [
       "array([2, 5, 3, 8, 0, 4, 1, 6, 9])"
      ]
     },
     "execution_count": 80,
     "metadata": {},
     "output_type": "execute_result"
    }
   ],
   "source": [
    "ar10"
   ]
  },
  {
   "cell_type": "code",
   "execution_count": 81,
   "id": "a45298ad-17a4-4752-b49e-1eceacb8b812",
   "metadata": {},
   "outputs": [
    {
     "data": {
      "text/plain": [
       "np.int64(8)"
      ]
     },
     "execution_count": 81,
     "metadata": {},
     "output_type": "execute_result"
    }
   ],
   "source": [
    "np.argmax(ar10)"
   ]
  },
  {
   "cell_type": "code",
   "execution_count": 82,
   "id": "2e8a763a-3510-4b05-9583-4f3cb20a3818",
   "metadata": {},
   "outputs": [
    {
     "data": {
      "text/plain": [
       "np.int64(4)"
      ]
     },
     "execution_count": 82,
     "metadata": {},
     "output_type": "execute_result"
    }
   ],
   "source": [
    "np.argmin(ar10)"
   ]
  },
  {
   "cell_type": "code",
   "execution_count": 83,
   "id": "ec7201dd-a73e-4e61-b9b9-927cf2429031",
   "metadata": {},
   "outputs": [
    {
     "data": {
      "text/plain": [
       "array([4, 6, 0, 2, 5, 1, 7, 3, 8])"
      ]
     },
     "execution_count": 83,
     "metadata": {},
     "output_type": "execute_result"
    }
   ],
   "source": [
    "np.argsort(ar10)"
   ]
  },
  {
   "cell_type": "code",
   "execution_count": 84,
   "id": "280c7b03-5431-4192-b879-356c135231e2",
   "metadata": {},
   "outputs": [
    {
     "data": {
      "text/plain": [
       "array([2, 5, 3, 8, 0, 4, 1, 6, 9])"
      ]
     },
     "execution_count": 84,
     "metadata": {},
     "output_type": "execute_result"
    }
   ],
   "source": [
    "ar10"
   ]
  },
  {
   "cell_type": "code",
   "execution_count": 85,
   "id": "38300a82-efa9-4d79-a1bf-0b9c850b0fa4",
   "metadata": {},
   "outputs": [
    {
     "data": {
      "text/plain": [
       "array([ 0.90929743, -0.95892427,  0.14112001,  0.98935825,  0.        ,\n",
       "       -0.7568025 ,  0.84147098, -0.2794155 ,  0.41211849])"
      ]
     },
     "execution_count": 85,
     "metadata": {},
     "output_type": "execute_result"
    }
   ],
   "source": [
    "np.sin(ar10)"
   ]
  },
  {
   "cell_type": "code",
   "execution_count": 86,
   "id": "89ce5769-4ca8-4235-9b76-131e703874e0",
   "metadata": {},
   "outputs": [
    {
     "name": "stderr",
     "output_type": "stream",
     "text": [
      "C:\\Users\\gagan\\AppData\\Local\\Temp\\ipykernel_8512\\168028880.py:1: RuntimeWarning: divide by zero encountered in log\n",
      "  np.log(ar10)\n"
     ]
    },
    {
     "data": {
      "text/plain": [
       "array([0.69314718, 1.60943791, 1.09861229, 2.07944154,       -inf,\n",
       "       1.38629436, 0.        , 1.79175947, 2.19722458])"
      ]
     },
     "execution_count": 86,
     "metadata": {},
     "output_type": "execute_result"
    }
   ],
   "source": [
    "np.log(ar10)"
   ]
  }
 ],
 "metadata": {
  "kernelspec": {
   "display_name": "Python 3 (ipykernel)",
   "language": "python",
   "name": "python3"
  },
  "language_info": {
   "codemirror_mode": {
    "name": "ipython",
    "version": 3
   },
   "file_extension": ".py",
   "mimetype": "text/x-python",
   "name": "python",
   "nbconvert_exporter": "python",
   "pygments_lexer": "ipython3",
   "version": "3.12.1"
  }
 },
 "nbformat": 4,
 "nbformat_minor": 5
}
