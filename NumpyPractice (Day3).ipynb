{
 "cells": [
  {
   "cell_type": "code",
   "execution_count": 1,
   "id": "a4036275-4200-4d85-bbc3-bca1b860012d",
   "metadata": {},
   "outputs": [],
   "source": [
    "# Numpy installed globally from Command prompt (pip install numpy)\n",
    "import numpy as np"
   ]
  },
  {
   "cell_type": "code",
   "execution_count": 2,
   "id": "9f6e36f5-45e3-4e7f-a8df-789f34f14204",
   "metadata": {},
   "outputs": [],
   "source": [
    "# 1D Arrays\n",
    "arr = np.array([1,2,3,4,5])"
   ]
  },
  {
   "cell_type": "code",
   "execution_count": 3,
   "id": "29c2d7e2-d79d-45e0-9e6b-54254c80bba4",
   "metadata": {},
   "outputs": [
    {
     "data": {
      "text/plain": [
       "array([1, 2, 3, 4, 5])"
      ]
     },
     "execution_count": 3,
     "metadata": {},
     "output_type": "execute_result"
    }
   ],
   "source": [
    "arr"
   ]
  },
  {
   "cell_type": "code",
   "execution_count": 4,
   "id": "f704e529-c213-4d9c-bd89-c3b8ed5e8013",
   "metadata": {},
   "outputs": [
    {
     "name": "stdout",
     "output_type": "stream",
     "text": [
      "int64\n"
     ]
    }
   ],
   "source": [
    "print(arr.dtype)"
   ]
  },
  {
   "cell_type": "code",
   "execution_count": 5,
   "id": "37136951-d47c-4f23-af44-86b3459a7a62",
   "metadata": {},
   "outputs": [],
   "source": [
    "arr2 = np.array([1, 2, 3, 4, 5], dtype=np.int64)"
   ]
  },
  {
   "cell_type": "code",
   "execution_count": 6,
   "id": "42216dd5-75a6-4fbf-a8ce-5c9c620f480a",
   "metadata": {},
   "outputs": [
    {
     "data": {
      "text/plain": [
       "array([1, 2, 3, 4, 5])"
      ]
     },
     "execution_count": 6,
     "metadata": {},
     "output_type": "execute_result"
    }
   ],
   "source": [
    "arr2"
   ]
  },
  {
   "cell_type": "code",
   "execution_count": 7,
   "id": "98b29ec3-860b-4a05-bc2e-296f9e65d588",
   "metadata": {},
   "outputs": [],
   "source": [
    "Z=np.zeros(5)"
   ]
  },
  {
   "cell_type": "code",
   "execution_count": 8,
   "id": "f6b539b7-0983-4ae2-bca2-0801ed1c40f3",
   "metadata": {},
   "outputs": [
    {
     "data": {
      "text/plain": [
       "array([0., 0., 0., 0., 0.])"
      ]
     },
     "execution_count": 8,
     "metadata": {},
     "output_type": "execute_result"
    }
   ],
   "source": [
    "Z\n"
   ]
  },
  {
   "cell_type": "code",
   "execution_count": 9,
   "id": "91316509-915a-4094-bec7-39a5eb8b8581",
   "metadata": {},
   "outputs": [],
   "source": [
    "Z=np.ones(5)"
   ]
  },
  {
   "cell_type": "code",
   "execution_count": 10,
   "id": "e6923687-8f7d-4840-a335-18a4c874c2cf",
   "metadata": {},
   "outputs": [
    {
     "data": {
      "text/plain": [
       "array([1., 1., 1., 1., 1.])"
      ]
     },
     "execution_count": 10,
     "metadata": {},
     "output_type": "execute_result"
    }
   ],
   "source": [
    "Z"
   ]
  },
  {
   "cell_type": "code",
   "execution_count": 11,
   "id": "95f3d769-cfe8-441c-8536-ea31533c044e",
   "metadata": {},
   "outputs": [],
   "source": [
    "ar=np.arange(0,10,1)"
   ]
  },
  {
   "cell_type": "code",
   "execution_count": 12,
   "id": "ac448a65-831d-433d-8172-8f3dc7525e4f",
   "metadata": {},
   "outputs": [
    {
     "data": {
      "text/plain": [
       "array([0, 1, 2, 3, 4, 5, 6, 7, 8, 9])"
      ]
     },
     "execution_count": 12,
     "metadata": {},
     "output_type": "execute_result"
    }
   ],
   "source": [
    "ar"
   ]
  },
  {
   "cell_type": "code",
   "execution_count": 13,
   "id": "3f9ccd5f-4d14-4be2-9e57-aa6ecb2080d6",
   "metadata": {},
   "outputs": [],
   "source": [
    "## random rand function always takes values between 0 -1\n",
    "ran=np.random.rand(5)"
   ]
  },
  {
   "cell_type": "code",
   "execution_count": 14,
   "id": "cef4d22e-5d84-4220-b4b9-718f8beec6d5",
   "metadata": {},
   "outputs": [
    {
     "data": {
      "text/plain": [
       "array([0.82809851, 0.3584629 , 0.22264066, 0.65875039, 0.23426181])"
      ]
     },
     "execution_count": 14,
     "metadata": {},
     "output_type": "execute_result"
    }
   ],
   "source": [
    "ran"
   ]
  },
  {
   "cell_type": "code",
   "execution_count": 15,
   "id": "c3953dd6-8784-4518-ad04-6d1d63f7f712",
   "metadata": {},
   "outputs": [],
   "source": [
    "ln = np.linspace(0,100,10)"
   ]
  },
  {
   "cell_type": "code",
   "execution_count": 16,
   "id": "df427a96-d400-472f-a406-3ac6bd38997c",
   "metadata": {},
   "outputs": [
    {
     "data": {
      "text/plain": [
       "array([  0.        ,  11.11111111,  22.22222222,  33.33333333,\n",
       "        44.44444444,  55.55555556,  66.66666667,  77.77777778,\n",
       "        88.88888889, 100.        ])"
      ]
     },
     "execution_count": 16,
     "metadata": {},
     "output_type": "execute_result"
    }
   ],
   "source": [
    "ln"
   ]
  },
  {
   "cell_type": "code",
   "execution_count": 17,
   "id": "c1076d9a-d08a-4bb0-9c34-4067f351e842",
   "metadata": {},
   "outputs": [],
   "source": [
    "# 2D Arrays\n",
    "ar2 = np.array([[1,2,3], [4,5,6], [7,8,9]])"
   ]
  },
  {
   "cell_type": "code",
   "execution_count": 18,
   "id": "5aa08e62-d29e-43fa-80cc-a60a00234346",
   "metadata": {},
   "outputs": [
    {
     "data": {
      "text/plain": [
       "array([[1, 2, 3],\n",
       "       [4, 5, 6],\n",
       "       [7, 8, 9]])"
      ]
     },
     "execution_count": 18,
     "metadata": {},
     "output_type": "execute_result"
    }
   ],
   "source": [
    "ar2"
   ]
  },
  {
   "cell_type": "code",
   "execution_count": 19,
   "id": "558538b0-cad5-49b8-bb9d-e4d31d0f7f17",
   "metadata": {},
   "outputs": [
    {
     "data": {
      "text/plain": [
       "array([[0., 0., 0., 0., 0.],\n",
       "       [0., 0., 0., 0., 0.],\n",
       "       [0., 0., 0., 0., 0.],\n",
       "       [0., 0., 0., 0., 0.],\n",
       "       [0., 0., 0., 0., 0.]])"
      ]
     },
     "execution_count": 19,
     "metadata": {},
     "output_type": "execute_result"
    }
   ],
   "source": [
    "Z=np.zeros([5,5])\n",
    "Z"
   ]
  },
  {
   "cell_type": "code",
   "execution_count": 20,
   "id": "b6d84481-171d-423d-b107-7e7220a2f34b",
   "metadata": {},
   "outputs": [
    {
     "data": {
      "text/plain": [
       "array([[1., 1., 1., 1., 1.],\n",
       "       [1., 1., 1., 1., 1.],\n",
       "       [1., 1., 1., 1., 1.],\n",
       "       [1., 1., 1., 1., 1.],\n",
       "       [1., 1., 1., 1., 1.]])"
      ]
     },
     "execution_count": 20,
     "metadata": {},
     "output_type": "execute_result"
    }
   ],
   "source": [
    "o1 = np.ones([5,5])\n",
    "o1"
   ]
  },
  {
   "cell_type": "code",
   "execution_count": 21,
   "id": "486598c4-bca7-497d-a825-e1d73a045707",
   "metadata": {},
   "outputs": [
    {
     "data": {
      "text/plain": [
       "array([[1., 0., 0., 0., 0.],\n",
       "       [0., 1., 0., 0., 0.],\n",
       "       [0., 0., 1., 0., 0.],\n",
       "       [0., 0., 0., 1., 0.],\n",
       "       [0., 0., 0., 0., 1.]])"
      ]
     },
     "execution_count": 21,
     "metadata": {},
     "output_type": "execute_result"
    }
   ],
   "source": [
    "# Identity Matrix\n",
    "I = np.eye(5)\n",
    "I"
   ]
  },
  {
   "cell_type": "code",
   "execution_count": 22,
   "id": "cb484451-9899-4ce2-af58-8d531d3b46e4",
   "metadata": {},
   "outputs": [
    {
     "data": {
      "text/plain": [
       "array([[5.18470030e-01, 6.99959330e-01, 1.11074152e-03, 5.22040323e-01],\n",
       "       [9.40927867e-01, 9.39803274e-01, 9.36591842e-01, 2.97180140e-01],\n",
       "       [1.95395705e-01, 4.51043322e-02, 6.63628068e-01, 9.43358322e-01],\n",
       "       [1.95168833e-02, 3.86254705e-01, 5.52283556e-05, 3.53065561e-01],\n",
       "       [7.32279748e-02, 2.56599202e-01, 1.19326236e-01, 6.60336804e-01],\n",
       "       [5.31220309e-01, 8.05515017e-02, 9.25624752e-03, 9.96596275e-01],\n",
       "       [5.02708162e-02, 8.95499930e-01, 1.15751038e-01, 2.03002868e-01],\n",
       "       [6.60133619e-01, 2.79814913e-01, 7.66757667e-01, 6.23101692e-01],\n",
       "       [9.31938151e-01, 5.17923183e-01, 7.24266495e-01, 6.03537293e-01]])"
      ]
     },
     "execution_count": 22,
     "metadata": {},
     "output_type": "execute_result"
    }
   ],
   "source": [
    "r1 = np.random.rand(9,4,)\n",
    "r1"
   ]
  },
  {
   "cell_type": "code",
   "execution_count": 23,
   "id": "3bd4db2a-aa4b-45a3-9edb-c6686d3257cd",
   "metadata": {},
   "outputs": [
    {
     "data": {
      "text/plain": [
       "array([1, 2, 3, 4, 5])"
      ]
     },
     "execution_count": 23,
     "metadata": {},
     "output_type": "execute_result"
    }
   ],
   "source": [
    "arr"
   ]
  },
  {
   "cell_type": "code",
   "execution_count": 24,
   "id": "d450a5d9-4a7e-4033-af60-84e4987e353f",
   "metadata": {},
   "outputs": [
    {
     "data": {
      "text/plain": [
       "array([[1, 2, 3],\n",
       "       [4, 5, 6],\n",
       "       [7, 8, 9]])"
      ]
     },
     "execution_count": 24,
     "metadata": {},
     "output_type": "execute_result"
    }
   ],
   "source": [
    "ar2"
   ]
  },
  {
   "cell_type": "code",
   "execution_count": 25,
   "id": "18c8e1ea-99cc-450e-8a4d-9bee7f780886",
   "metadata": {},
   "outputs": [
    {
     "name": "stdout",
     "output_type": "stream",
     "text": [
      "5\n"
     ]
    }
   ],
   "source": [
    "print(arr.size)"
   ]
  },
  {
   "cell_type": "code",
   "execution_count": 26,
   "id": "d9b44f8c-2c9c-4b3c-bbf3-e77622ca09b2",
   "metadata": {},
   "outputs": [
    {
     "name": "stdout",
     "output_type": "stream",
     "text": [
      "9\n"
     ]
    }
   ],
   "source": [
    "print(ar2.size)"
   ]
  },
  {
   "cell_type": "code",
   "execution_count": 27,
   "id": "601bc034-ef9a-43fd-b52a-589f92fe3765",
   "metadata": {},
   "outputs": [
    {
     "name": "stdout",
     "output_type": "stream",
     "text": [
      "(5,)\n"
     ]
    }
   ],
   "source": [
    "print(arr.shape)"
   ]
  },
  {
   "cell_type": "code",
   "execution_count": 28,
   "id": "e30e60fd-f8fb-4946-a6be-c03dff02f463",
   "metadata": {},
   "outputs": [
    {
     "name": "stdout",
     "output_type": "stream",
     "text": [
      "(3, 3)\n"
     ]
    }
   ],
   "source": [
    "print(ar2.shape)"
   ]
  },
  {
   "cell_type": "code",
   "execution_count": 29,
   "id": "d46b648a-b695-477a-958e-f9747f2f4643",
   "metadata": {},
   "outputs": [
    {
     "data": {
      "text/plain": [
       "array([[1, 2, 3],\n",
       "       [4, 5, 6],\n",
       "       [7, 8, 9]])"
      ]
     },
     "execution_count": 29,
     "metadata": {},
     "output_type": "execute_result"
    }
   ],
   "source": [
    "# Operations in Array\n",
    "ar3 = np.copy(ar2)\n",
    "ar3"
   ]
  },
  {
   "cell_type": "code",
   "execution_count": 30,
   "id": "0d736253-c339-436b-aa98-6b2661b52341",
   "metadata": {},
   "outputs": [],
   "source": [
    "ar3[2,2] = 10"
   ]
  },
  {
   "cell_type": "code",
   "execution_count": 31,
   "id": "5104e693-b0b8-44f2-830e-4ea61bfb3ce1",
   "metadata": {},
   "outputs": [
    {
     "data": {
      "text/plain": [
       "array([[ 1,  2,  3],\n",
       "       [ 4,  5,  6],\n",
       "       [ 7,  8, 10]])"
      ]
     },
     "execution_count": 31,
     "metadata": {},
     "output_type": "execute_result"
    }
   ],
   "source": [
    "ar3"
   ]
  },
  {
   "cell_type": "code",
   "execution_count": 32,
   "id": "0de68d7c-f3e7-4383-93ae-b120da6af289",
   "metadata": {},
   "outputs": [
    {
     "data": {
      "text/plain": [
       "array([[ 1, 15,  3],\n",
       "       [ 4,  5, 12],\n",
       "       [ 7,  8, 10]])"
      ]
     },
     "execution_count": 32,
     "metadata": {},
     "output_type": "execute_result"
    }
   ],
   "source": [
    "ar3[1,2] =12\n",
    "ar3[0,1] =15\n",
    "ar3"
   ]
  },
  {
   "cell_type": "code",
   "execution_count": 33,
   "id": "0e74da06-dad7-4063-ae36-fbb4037ad39e",
   "metadata": {},
   "outputs": [
    {
     "data": {
      "text/plain": [
       "array([[ 1,  3, 15],\n",
       "       [ 4,  5, 12],\n",
       "       [ 7,  8, 10]])"
      ]
     },
     "execution_count": 33,
     "metadata": {},
     "output_type": "execute_result"
    }
   ],
   "source": [
    "ar3 = np.sort(ar3)\n",
    "ar3"
   ]
  },
  {
   "cell_type": "code",
   "execution_count": 34,
   "id": "950dedda-b7ee-4e3e-9431-ea672658fbef",
   "metadata": {},
   "outputs": [
    {
     "data": {
      "text/plain": [
       "array([[ 1,  3, 10],\n",
       "       [ 4,  5, 12],\n",
       "       [ 7,  8, 15]])"
      ]
     },
     "execution_count": 34,
     "metadata": {},
     "output_type": "execute_result"
    }
   ],
   "source": [
    "ar3 = np.sort(ar3,axis = 0)\n",
    "ar3"
   ]
  },
  {
   "cell_type": "code",
   "execution_count": 35,
   "id": "7a8d3334-ee97-42ba-af90-df3196aa37b2",
   "metadata": {},
   "outputs": [
    {
     "data": {
      "text/plain": [
       "array([12, 16, 37])"
      ]
     },
     "execution_count": 35,
     "metadata": {},
     "output_type": "execute_result"
    }
   ],
   "source": [
    "ar3.sum(axis = 0)"
   ]
  },
  {
   "cell_type": "code",
   "execution_count": 36,
   "id": "14f661ac-c285-4b12-ba76-6e160aa3317e",
   "metadata": {},
   "outputs": [
    {
     "data": {
      "text/plain": [
       "array([14, 21, 30])"
      ]
     },
     "execution_count": 36,
     "metadata": {},
     "output_type": "execute_result"
    }
   ],
   "source": [
    "ar3.sum(axis = 1)"
   ]
  },
  {
   "cell_type": "code",
   "execution_count": 37,
   "id": "aa75d198-7093-4280-9b2f-9af01faf5bb7",
   "metadata": {},
   "outputs": [
    {
     "data": {
      "text/plain": [
       "array([0.57035653, 0.36390625, 0.77023432, 0.35159128, 0.95529223,\n",
       "       0.68380199, 0.62961099, 0.28957593, 0.13635781, 0.14115034,\n",
       "       0.37984158, 0.33860259, 0.99955751, 0.26607862, 0.03465047,\n",
       "       0.12127391, 0.0059824 , 0.96915852, 0.09171421, 0.52598001,\n",
       "       0.34992071, 0.46177957, 0.09977133, 0.87853964, 0.15892112,\n",
       "       0.9118498 , 0.2208111 , 0.43129976, 0.54798543, 0.76849318,\n",
       "       0.39400005, 0.40874308, 0.6419587 , 0.10525594, 0.64826988,\n",
       "       0.9045556 , 0.68412097, 0.07182461, 0.09239081, 0.42018847,\n",
       "       0.23389006, 0.10709307, 0.28853551, 0.13579547, 0.37632966,\n",
       "       0.37470369, 0.61030271, 0.78143387, 0.68347812, 0.96087947,\n",
       "       0.6245854 , 0.90161513, 0.13266035, 0.20669988, 0.18095412,\n",
       "       0.56758408, 0.96862876, 0.87119626, 0.56551929, 0.71393284,\n",
       "       0.17069444, 0.8565563 , 0.23492395, 0.93809378, 0.3771386 ,\n",
       "       0.51038554, 0.11785418, 0.13963293, 0.56723368, 0.26026901,\n",
       "       0.25244898, 0.04485297, 0.11018169, 0.18941091, 0.10101258,\n",
       "       0.5529215 , 0.79199518, 0.04377928, 0.49853136, 0.40480234,\n",
       "       0.65005644, 0.63122162, 0.06868033, 0.56079043, 0.12569093,\n",
       "       0.5391826 , 0.15648306, 0.30277915, 0.18303218, 0.88004719,\n",
       "       0.13273162, 0.58825625, 0.3395108 , 0.60902962, 0.87737336,\n",
       "       0.60747917, 0.86896757, 0.78465615, 0.40618682])"
      ]
     },
     "execution_count": 37,
     "metadata": {},
     "output_type": "execute_result"
    }
   ],
   "source": [
    "ar4 = np.random.rand(99)\n",
    "ar4"
   ]
  },
  {
   "cell_type": "code",
   "execution_count": 38,
   "id": "af0dcf76-d119-482d-a98b-8d3ee95d0730",
   "metadata": {},
   "outputs": [
    {
     "data": {
      "text/plain": [
       "array([[0.07557547, 0.59910493, 0.60485143, 0.42602085, 0.49102028],\n",
       "       [0.98901257, 0.74465525, 0.20697373, 0.50517552, 0.4386641 ],\n",
       "       [0.23878534, 0.86732746, 0.41045072, 0.73926702, 0.96948899],\n",
       "       [0.06856777, 0.85950021, 0.06134434, 0.01570134, 0.08530448],\n",
       "       [0.79201175, 0.91537688, 0.03905083, 0.41039907, 0.07963036]])"
      ]
     },
     "execution_count": 38,
     "metadata": {},
     "output_type": "execute_result"
    }
   ],
   "source": [
    "x = np.random.rand(5,5)\n",
    "x"
   ]
  },
  {
   "cell_type": "code",
   "execution_count": 39,
   "id": "cb20b4f7-5583-488a-9012-86f7649b9151",
   "metadata": {},
   "outputs": [
    {
     "data": {
      "text/plain": [
       "array([[[0.94869813, 0.69232508, 0.59542221, 0.44207634, 0.98000237],\n",
       "        [0.03341954, 0.54625691, 0.21139982, 0.29551809, 0.94493811],\n",
       "        [0.41872754, 0.78521523, 0.41287564, 0.59143419, 0.99738099],\n",
       "        [0.09005495, 0.13952953, 0.44785718, 0.38254334, 0.82416175],\n",
       "        [0.59098116, 0.95134672, 0.40104302, 0.59845437, 0.6758682 ]],\n",
       "\n",
       "       [[0.35570907, 0.64098617, 0.66699607, 0.21143764, 0.47277821],\n",
       "        [0.55350985, 0.736517  , 0.1171306 , 0.25479468, 0.4576611 ],\n",
       "        [0.04959094, 0.03303545, 0.45514796, 0.44573972, 0.40486499],\n",
       "        [0.93770839, 0.5690587 , 0.84784041, 0.5174236 , 0.05552797],\n",
       "        [0.57329091, 0.3683293 , 0.23511011, 0.50940533, 0.0860404 ]],\n",
       "\n",
       "       [[0.95450794, 0.70420058, 0.06878561, 0.97484697, 0.5135527 ],\n",
       "        [0.92239152, 0.74123762, 0.06077381, 0.33146489, 0.38591088],\n",
       "        [0.976993  , 0.58009459, 0.90326332, 0.80429024, 0.85490548],\n",
       "        [0.84434911, 0.11873643, 0.05790731, 0.4696539 , 0.2577156 ],\n",
       "        [0.84559946, 0.35561104, 0.75849956, 0.02320308, 0.89813159]],\n",
       "\n",
       "       [[0.93324578, 0.46604516, 0.55547493, 0.76422038, 0.21432444],\n",
       "        [0.05661358, 0.37738049, 0.18539529, 0.26071338, 0.03550558],\n",
       "        [0.11790129, 0.5836207 , 0.08579421, 0.35687314, 0.76372271],\n",
       "        [0.16574398, 0.10450018, 0.26521725, 0.37454242, 0.95396956],\n",
       "        [0.53334549, 0.02505636, 0.53178301, 0.75406967, 0.8187032 ]],\n",
       "\n",
       "       [[0.75326216, 0.61914638, 0.72388399, 0.1762323 , 0.59389205],\n",
       "        [0.89622255, 0.03124272, 0.01031169, 0.87386987, 0.53577251],\n",
       "        [0.30463882, 0.34142593, 0.72441978, 0.98325433, 0.10744738],\n",
       "        [0.38718899, 0.90784666, 0.55547908, 0.40045046, 0.71008909],\n",
       "        [0.38524214, 0.4035563 , 0.3578036 , 0.2368115 , 0.14015091]]])"
      ]
     },
     "execution_count": 39,
     "metadata": {},
     "output_type": "execute_result"
    }
   ],
   "source": [
    "x = np.random.rand(5,5,5)\n",
    "x"
   ]
  },
  {
   "cell_type": "code",
   "execution_count": 40,
   "id": "503b7f9a-56e3-46dd-9101-302d665f7f28",
   "metadata": {},
   "outputs": [
    {
     "name": "stdout",
     "output_type": "stream",
     "text": [
      "5\n"
     ]
    }
   ],
   "source": [
    "print(arr.size)"
   ]
  },
  {
   "cell_type": "code",
   "execution_count": 41,
   "id": "ef874030-60d3-47b7-ab98-47734772250f",
   "metadata": {},
   "outputs": [
    {
     "name": "stdout",
     "output_type": "stream",
     "text": [
      "9\n"
     ]
    }
   ],
   "source": [
    "print(ar2.size)"
   ]
  },
  {
   "cell_type": "code",
   "execution_count": 42,
   "id": "97280cf4-d4e4-43d6-90ec-8c2f844c55fe",
   "metadata": {},
   "outputs": [
    {
     "name": "stdout",
     "output_type": "stream",
     "text": [
      "(10,)\n"
     ]
    }
   ],
   "source": [
    "print(ar.shape)"
   ]
  },
  {
   "cell_type": "code",
   "execution_count": 43,
   "id": "6f1d7885-92d0-4aa7-a7b3-dd64cd650147",
   "metadata": {},
   "outputs": [
    {
     "name": "stdout",
     "output_type": "stream",
     "text": [
      "(3, 3)\n"
     ]
    }
   ],
   "source": [
    "print(ar2.shape)"
   ]
  },
  {
   "cell_type": "code",
   "execution_count": 44,
   "id": "4c3a0b3f-d399-433d-b24c-8f0315439b4e",
   "metadata": {},
   "outputs": [
    {
     "data": {
      "text/plain": [
       "array([[1, 2, 3],\n",
       "       [4, 5, 6],\n",
       "       [7, 8, 9]])"
      ]
     },
     "execution_count": 44,
     "metadata": {},
     "output_type": "execute_result"
    }
   ],
   "source": [
    "arr3 = np.copy(ar2)\n",
    "arr3"
   ]
  },
  {
   "cell_type": "code",
   "execution_count": 45,
   "id": "df8cbc54-1474-4a26-ad32-81f42c31d6da",
   "metadata": {},
   "outputs": [
    {
     "data": {
      "text/plain": [
       "array([[ 1,  2,  3],\n",
       "       [ 4,  5,  6],\n",
       "       [ 7,  8, 10]])"
      ]
     },
     "execution_count": 45,
     "metadata": {},
     "output_type": "execute_result"
    }
   ],
   "source": [
    "arr3[2,2] = 10\n",
    "arr3"
   ]
  },
  {
   "cell_type": "code",
   "execution_count": 46,
   "id": "2e879e14-ceed-449e-b52b-7d050e3497ee",
   "metadata": {},
   "outputs": [
    {
     "data": {
      "text/plain": [
       "array([[ 1,  2,  3],\n",
       "       [ 4,  5, 12],\n",
       "       [ 7, 15, 10]])"
      ]
     },
     "execution_count": 46,
     "metadata": {},
     "output_type": "execute_result"
    }
   ],
   "source": [
    "arr3[1,2] =12\n",
    "arr3[2,1] = 15\n",
    "arr3"
   ]
  },
  {
   "cell_type": "code",
   "execution_count": 47,
   "id": "fc749fc9-5fc6-44ef-92ee-d070a1130bf5",
   "metadata": {},
   "outputs": [
    {
     "data": {
      "text/plain": [
       "array([[ 1,  2,  3],\n",
       "       [ 4,  5, 12],\n",
       "       [ 7, 10, 15]])"
      ]
     },
     "execution_count": 47,
     "metadata": {},
     "output_type": "execute_result"
    }
   ],
   "source": [
    "arr3 = np.sort(arr3)\n",
    "arr3"
   ]
  },
  {
   "cell_type": "code",
   "execution_count": 48,
   "id": "cbf48e56-c18b-49f0-bde8-bed112dc31fc",
   "metadata": {},
   "outputs": [
    {
     "data": {
      "text/plain": [
       "array([0, 1, 2, 3, 4, 5, 6, 7, 8, 9])"
      ]
     },
     "execution_count": 48,
     "metadata": {},
     "output_type": "execute_result"
    }
   ],
   "source": [
    "ar"
   ]
  },
  {
   "cell_type": "code",
   "execution_count": 49,
   "id": "64d912df-cfbf-4bea-a74b-9633511ce6ab",
   "metadata": {},
   "outputs": [
    {
     "data": {
      "text/plain": [
       "array([ 0,  1,  2,  3,  4,  5,  6,  7,  8,  9, 20])"
      ]
     },
     "execution_count": 49,
     "metadata": {},
     "output_type": "execute_result"
    }
   ],
   "source": [
    "np.append(ar, 20)"
   ]
  },
  {
   "cell_type": "code",
   "execution_count": 50,
   "id": "a340c184-8664-49f3-9568-7ee998fd5cf7",
   "metadata": {},
   "outputs": [
    {
     "data": {
      "text/plain": [
       "array([ 0,  1,  2,  3,  4,  5,  6,  7,  8,  9, 20])"
      ]
     },
     "execution_count": 50,
     "metadata": {},
     "output_type": "execute_result"
    }
   ],
   "source": [
    "ar = np.append(ar,20)\n",
    "ar"
   ]
  },
  {
   "cell_type": "code",
   "execution_count": 51,
   "id": "9a1c6e87-6586-47a1-b1d8-e2a65901fc86",
   "metadata": {},
   "outputs": [
    {
     "data": {
      "text/plain": [
       "array([ 0,  1,  2,  3,  4,  5,  7,  8,  9, 20])"
      ]
     },
     "execution_count": 51,
     "metadata": {},
     "output_type": "execute_result"
    }
   ],
   "source": [
    "ar = np.delete(ar, 6, axis = 0)\n",
    "ar"
   ]
  },
  {
   "cell_type": "code",
   "execution_count": 52,
   "id": "75d96615-30ae-4568-aa70-d2aa49c3e869",
   "metadata": {},
   "outputs": [
    {
     "data": {
      "text/plain": [
       "array([ 0,  1,  2,  3,  4,  5,  6,  7,  8,  9, 20])"
      ]
     },
     "execution_count": 52,
     "metadata": {},
     "output_type": "execute_result"
    }
   ],
   "source": [
    "ar = np.insert(ar,6,6)\n",
    "ar"
   ]
  },
  {
   "cell_type": "code",
   "execution_count": 53,
   "id": "27172863-c58a-41c6-9ee7-8ece3e042e9c",
   "metadata": {},
   "outputs": [
    {
     "data": {
      "text/plain": [
       "array([[1, 2, 3],\n",
       "       [4, 5, 6],\n",
       "       [7, 8, 9]])"
      ]
     },
     "execution_count": 53,
     "metadata": {},
     "output_type": "execute_result"
    }
   ],
   "source": [
    "#Concatention\n",
    "ar2"
   ]
  },
  {
   "cell_type": "code",
   "execution_count": 54,
   "id": "303e6cb8-2523-412e-ad9f-932f9c0841f4",
   "metadata": {},
   "outputs": [
    {
     "data": {
      "text/plain": [
       "array([[ 1,  3, 10],\n",
       "       [ 4,  5, 12],\n",
       "       [ 7,  8, 15]])"
      ]
     },
     "execution_count": 54,
     "metadata": {},
     "output_type": "execute_result"
    }
   ],
   "source": [
    "ar3"
   ]
  },
  {
   "cell_type": "code",
   "execution_count": 55,
   "id": "c53fc902-a601-44d5-a1d3-5329552a8cb4",
   "metadata": {},
   "outputs": [
    {
     "data": {
      "text/plain": [
       "array([[ 1,  2,  3],\n",
       "       [ 4,  5,  6],\n",
       "       [ 7,  8,  9],\n",
       "       [ 1,  3, 10],\n",
       "       [ 4,  5, 12],\n",
       "       [ 7,  8, 15]])"
      ]
     },
     "execution_count": 55,
     "metadata": {},
     "output_type": "execute_result"
    }
   ],
   "source": [
    "ar4 = np.concatenate((ar2, ar3),axis = 0)\n",
    "ar4"
   ]
  },
  {
   "cell_type": "code",
   "execution_count": 56,
   "id": "77e3bea5-ce9d-41f0-86bb-356199ff5cca",
   "metadata": {},
   "outputs": [
    {
     "data": {
      "text/plain": [
       "array([[ 1,  2,  3,  1,  3, 10],\n",
       "       [ 4,  5,  6,  4,  5, 12],\n",
       "       [ 7,  8,  9,  7,  8, 15]])"
      ]
     },
     "execution_count": 56,
     "metadata": {},
     "output_type": "execute_result"
    }
   ],
   "source": [
    "ar5 = np.concatenate((ar2, ar3),axis = 1)\n",
    "ar5"
   ]
  },
  {
   "cell_type": "code",
   "execution_count": 57,
   "id": "26f0d5be-2b7f-4658-aeb7-1e18035be9c2",
   "metadata": {},
   "outputs": [
    {
     "data": {
      "text/plain": [
       "[array([[1, 2, 3],\n",
       "        [4, 5, 6]]),\n",
       " array([[ 7,  8,  9],\n",
       "        [ 1,  3, 10]]),\n",
       " array([[ 4,  5, 12],\n",
       "        [ 7,  8, 15]])]"
      ]
     },
     "execution_count": 57,
     "metadata": {},
     "output_type": "execute_result"
    }
   ],
   "source": [
    "# Using Split function\n",
    "np.split(ar4,3)"
   ]
  },
  {
   "cell_type": "code",
   "execution_count": 58,
   "id": "659d983d-443a-4abf-a4c7-6845f60f2ba8",
   "metadata": {},
   "outputs": [
    {
     "data": {
      "text/plain": [
       "[array([[1, 2, 3],\n",
       "        [4, 5, 6]]),\n",
       " array([[ 7,  8,  9],\n",
       "        [ 1,  3, 10]]),\n",
       " array([[ 4,  5, 12],\n",
       "        [ 7,  8, 15]])]"
      ]
     },
     "execution_count": 58,
     "metadata": {},
     "output_type": "execute_result"
    }
   ],
   "source": [
    "ar6 = np.split(ar4,3)\n",
    "ar6"
   ]
  },
  {
   "cell_type": "code",
   "execution_count": 59,
   "id": "fccd6a00-4211-41af-8fb9-747b09650fc7",
   "metadata": {},
   "outputs": [
    {
     "data": {
      "text/plain": [
       "array([[ 2,  3,  4,  2,  4, 11],\n",
       "       [ 5,  6,  7,  5,  6, 13],\n",
       "       [ 8,  9, 10,  8,  9, 16]])"
      ]
     },
     "execution_count": 59,
     "metadata": {},
     "output_type": "execute_result"
    }
   ],
   "source": [
    "# Scaler Expressions\n",
    "# Addition\n",
    "np.add(ar5,1)"
   ]
  },
  {
   "cell_type": "code",
   "execution_count": 60,
   "id": "591eeadf-7dbf-44af-a083-5155028687e4",
   "metadata": {},
   "outputs": [
    {
     "data": {
      "text/plain": [
       "array([[ 0,  1,  2,  0,  2,  9],\n",
       "       [ 3,  4,  5,  3,  4, 11],\n",
       "       [ 6,  7,  8,  6,  7, 14]])"
      ]
     },
     "execution_count": 60,
     "metadata": {},
     "output_type": "execute_result"
    }
   ],
   "source": [
    "# Subtraction\n",
    "np.subtract(ar5,1)"
   ]
  },
  {
   "cell_type": "code",
   "execution_count": 61,
   "id": "d10c92a3-2025-4a84-a8fa-0314bb97d83b",
   "metadata": {},
   "outputs": [
    {
     "data": {
      "text/plain": [
       "array([[ 1,  2,  3,  1,  3, 10],\n",
       "       [ 4,  5,  6,  4,  5, 12],\n",
       "       [ 7,  8,  9,  7,  8, 15]])"
      ]
     },
     "execution_count": 61,
     "metadata": {},
     "output_type": "execute_result"
    }
   ],
   "source": [
    "# Multiplication\n",
    "np.multiply(ar5,1)"
   ]
  },
  {
   "cell_type": "code",
   "execution_count": 62,
   "id": "e790be49-53dd-42c8-b394-b496d41f323b",
   "metadata": {},
   "outputs": [
    {
     "data": {
      "text/plain": [
       "array([[ 1.,  2.,  3.,  1.,  3., 10.],\n",
       "       [ 4.,  5.,  6.,  4.,  5., 12.],\n",
       "       [ 7.,  8.,  9.,  7.,  8., 15.]])"
      ]
     },
     "execution_count": 62,
     "metadata": {},
     "output_type": "execute_result"
    }
   ],
   "source": [
    "# Divide \n",
    "np.divide(ar5,1)"
   ]
  },
  {
   "cell_type": "code",
   "execution_count": 63,
   "id": "963d082d-dea2-4d3f-a41a-e80ec42861e5",
   "metadata": {},
   "outputs": [
    {
     "data": {
      "text/plain": [
       "[array([[1, 2, 3],\n",
       "        [4, 5, 6]]),\n",
       " array([[ 7,  8,  9],\n",
       "        [ 1,  3, 10]]),\n",
       " array([[ 4,  5, 12],\n",
       "        [ 7,  8, 15]])]"
      ]
     },
     "execution_count": 63,
     "metadata": {},
     "output_type": "execute_result"
    }
   ],
   "source": [
    "# Vector Operations\n",
    "ar6"
   ]
  },
  {
   "cell_type": "code",
   "execution_count": 64,
   "id": "57d50a15-1a9a-4fd7-a395-f1eded6317c5",
   "metadata": {},
   "outputs": [
    {
     "data": {
      "text/plain": [
       "array([[ 8, 10, 12],\n",
       "       [ 5,  8, 16]])"
      ]
     },
     "execution_count": 64,
     "metadata": {},
     "output_type": "execute_result"
    }
   ],
   "source": [
    "# Addition\n",
    "ar7 = np.add(ar6[0],ar6[1])\n",
    "ar7"
   ]
  },
  {
   "cell_type": "code",
   "execution_count": 65,
   "id": "6a4370f0-70df-4fa0-bdf5-164d3cd44b2f",
   "metadata": {},
   "outputs": [
    {
     "data": {
      "text/plain": [
       "array([[-6, -6, -6],\n",
       "       [ 3,  2, -4]])"
      ]
     },
     "execution_count": 65,
     "metadata": {},
     "output_type": "execute_result"
    }
   ],
   "source": [
    "# Subtraction\n",
    "ar8 = np.subtract(ar6[0],ar6[1])\n",
    "ar8"
   ]
  },
  {
   "cell_type": "code",
   "execution_count": 66,
   "id": "365172e8-d342-46fd-a980-2edf5ce4e1f1",
   "metadata": {},
   "outputs": [
    {
     "data": {
      "text/plain": [
       "array([[ 7, 16, 27],\n",
       "       [ 4, 15, 60]])"
      ]
     },
     "execution_count": 66,
     "metadata": {},
     "output_type": "execute_result"
    }
   ],
   "source": [
    "# Multiplication\n",
    "ar9 = np.multiply(ar6[0],ar6[1])\n",
    "ar9"
   ]
  },
  {
   "cell_type": "code",
   "execution_count": 67,
   "id": "cf9786f4-1615-4215-9c77-36243f52c668",
   "metadata": {},
   "outputs": [
    {
     "data": {
      "text/plain": [
       "array([[0.14285714, 0.25      , 0.33333333],\n",
       "       [4.        , 1.66666667, 0.6       ]])"
      ]
     },
     "execution_count": 67,
     "metadata": {},
     "output_type": "execute_result"
    }
   ],
   "source": [
    "# Divide\n",
    "ar10 = np.divide(ar6[0],ar6[1])\n",
    "ar10"
   ]
  },
  {
   "cell_type": "code",
   "execution_count": 68,
   "id": "57e10137-a3bd-488f-8390-e58ddfa25884",
   "metadata": {},
   "outputs": [
    {
     "data": {
      "text/plain": [
       "array([[ 7., 16., 27.],\n",
       "       [ 4., 15., 60.]])"
      ]
     },
     "execution_count": 68,
     "metadata": {},
     "output_type": "execute_result"
    }
   ],
   "source": [
    "np.ceil(ar9)"
   ]
  },
  {
   "cell_type": "code",
   "execution_count": 69,
   "id": "118563de-0064-4058-8f47-dd9074add48c",
   "metadata": {},
   "outputs": [
    {
     "data": {
      "text/plain": [
       "array([[ 7., 16., 27.],\n",
       "       [ 4., 15., 60.]])"
      ]
     },
     "execution_count": 69,
     "metadata": {},
     "output_type": "execute_result"
    }
   ],
   "source": [
    "np.floor(ar9)"
   ]
  },
  {
   "cell_type": "code",
   "execution_count": 70,
   "id": "03980916-46c3-4360-9474-2298c99b16c8",
   "metadata": {},
   "outputs": [
    {
     "data": {
      "text/plain": [
       "array([[ 7, 16, 27],\n",
       "       [ 4, 15, 60]])"
      ]
     },
     "execution_count": 70,
     "metadata": {},
     "output_type": "execute_result"
    }
   ],
   "source": [
    "np.round(ar9)"
   ]
  },
  {
   "cell_type": "markdown",
   "id": "7d2aadfc-f3d8-45e6-b0b3-279cdb93bbc2",
   "metadata": {},
   "source": [
    "# Statistics"
   ]
  },
  {
   "cell_type": "code",
   "execution_count": 71,
   "id": "2496ec67-5af0-4cd7-ad15-66842e8fcecc",
   "metadata": {},
   "outputs": [
    {
     "data": {
      "text/plain": [
       "np.float64(6.111111111111111)"
      ]
     },
     "execution_count": 71,
     "metadata": {},
     "output_type": "execute_result"
    }
   ],
   "source": [
    "np.mean(ar5)"
   ]
  },
  {
   "cell_type": "code",
   "execution_count": 72,
   "id": "56810645-8e3d-4238-830a-1c644bc36b84",
   "metadata": {},
   "outputs": [
    {
     "data": {
      "text/plain": [
       "array([ 4.        ,  5.        ,  6.        ,  4.        ,  5.33333333,\n",
       "       12.33333333])"
      ]
     },
     "execution_count": 72,
     "metadata": {},
     "output_type": "execute_result"
    }
   ],
   "source": [
    "np.mean(ar5,axis = 0)"
   ]
  },
  {
   "cell_type": "code",
   "execution_count": 73,
   "id": "d3529cb8-e1c6-4b6a-bbda-7c97b730d886",
   "metadata": {},
   "outputs": [
    {
     "data": {
      "text/plain": [
       "array([3.33333333, 6.        , 9.        ])"
      ]
     },
     "execution_count": 73,
     "metadata": {},
     "output_type": "execute_result"
    }
   ],
   "source": [
    "np.mean(ar5, axis = 1)"
   ]
  },
  {
   "cell_type": "code",
   "execution_count": 74,
   "id": "ea1abfc6-b5ff-49d9-bacd-ccb1c211aee9",
   "metadata": {},
   "outputs": [
    {
     "data": {
      "text/plain": [
       "array([2.5, 5. , 8. ])"
      ]
     },
     "execution_count": 74,
     "metadata": {},
     "output_type": "execute_result"
    }
   ],
   "source": [
    "np.median(ar5, axis = 1)"
   ]
  },
  {
   "cell_type": "code",
   "execution_count": 75,
   "id": "74996ba9-536e-4238-ba7f-09ce0d5f401e",
   "metadata": {},
   "outputs": [
    {
     "data": {
      "text/plain": [
       "np.int64(1)"
      ]
     },
     "execution_count": 75,
     "metadata": {},
     "output_type": "execute_result"
    }
   ],
   "source": [
    "np.min(ar5)"
   ]
  },
  {
   "cell_type": "code",
   "execution_count": 76,
   "id": "7e00249d-0887-4fff-b9ee-489ee1730329",
   "metadata": {},
   "outputs": [
    {
     "data": {
      "text/plain": [
       "array([ 1,  2,  3,  1,  3, 10])"
      ]
     },
     "execution_count": 76,
     "metadata": {},
     "output_type": "execute_result"
    }
   ],
   "source": [
    "np.min(ar5, axis = 0)"
   ]
  },
  {
   "cell_type": "code",
   "execution_count": 77,
   "id": "13cf382e-ccb0-4ddf-97c8-f954d4acb147",
   "metadata": {},
   "outputs": [
    {
     "data": {
      "text/plain": [
       "array([ 7,  8,  9,  7,  8, 15])"
      ]
     },
     "execution_count": 77,
     "metadata": {},
     "output_type": "execute_result"
    }
   ],
   "source": [
    "np.max(ar5, axis = 0)"
   ]
  },
  {
   "cell_type": "code",
   "execution_count": 78,
   "id": "6ee38bae-8408-42bc-9088-a7d97f18706e",
   "metadata": {},
   "outputs": [
    {
     "data": {
      "text/plain": [
       "array([[ 1,  2,  3,  1,  3, 10],\n",
       "       [ 4,  5,  6,  4,  5, 12],\n",
       "       [ 7,  8,  9,  7,  8, 15]])"
      ]
     },
     "execution_count": 78,
     "metadata": {},
     "output_type": "execute_result"
    }
   ],
   "source": [
    "ar10 = np.array([2,5,3,8,0,4,1,6,9])\n",
    "ar5"
   ]
  },
  {
   "cell_type": "code",
   "execution_count": 79,
   "id": "d0396393-bdff-4d11-b595-ebb424068484",
   "metadata": {},
   "outputs": [
    {
     "data": {
      "text/plain": [
       "array([2, 5, 3, 8, 0, 4, 1, 6, 9])"
      ]
     },
     "execution_count": 79,
     "metadata": {},
     "output_type": "execute_result"
    }
   ],
   "source": [
    "ar10"
   ]
  },
  {
   "cell_type": "code",
   "execution_count": 80,
   "id": "a45298ad-17a4-4752-b49e-1eceacb8b812",
   "metadata": {},
   "outputs": [
    {
     "data": {
      "text/plain": [
       "np.int64(8)"
      ]
     },
     "execution_count": 80,
     "metadata": {},
     "output_type": "execute_result"
    }
   ],
   "source": [
    "np.argmax(ar10)"
   ]
  },
  {
   "cell_type": "code",
   "execution_count": 81,
   "id": "2e8a763a-3510-4b05-9583-4f3cb20a3818",
   "metadata": {},
   "outputs": [
    {
     "data": {
      "text/plain": [
       "np.int64(4)"
      ]
     },
     "execution_count": 81,
     "metadata": {},
     "output_type": "execute_result"
    }
   ],
   "source": [
    "np.argmin(ar10)"
   ]
  },
  {
   "cell_type": "code",
   "execution_count": 82,
   "id": "ec7201dd-a73e-4e61-b9b9-927cf2429031",
   "metadata": {},
   "outputs": [
    {
     "data": {
      "text/plain": [
       "array([4, 6, 0, 2, 5, 1, 7, 3, 8])"
      ]
     },
     "execution_count": 82,
     "metadata": {},
     "output_type": "execute_result"
    }
   ],
   "source": [
    "np.argsort(ar10)"
   ]
  },
  {
   "cell_type": "code",
   "execution_count": 83,
   "id": "280c7b03-5431-4192-b879-356c135231e2",
   "metadata": {},
   "outputs": [
    {
     "data": {
      "text/plain": [
       "array([2, 5, 3, 8, 0, 4, 1, 6, 9])"
      ]
     },
     "execution_count": 83,
     "metadata": {},
     "output_type": "execute_result"
    }
   ],
   "source": [
    "ar10"
   ]
  },
  {
   "cell_type": "code",
   "execution_count": 84,
   "id": "38300a82-efa9-4d79-a1bf-0b9c850b0fa4",
   "metadata": {},
   "outputs": [
    {
     "data": {
      "text/plain": [
       "array([ 0.90929743, -0.95892427,  0.14112001,  0.98935825,  0.        ,\n",
       "       -0.7568025 ,  0.84147098, -0.2794155 ,  0.41211849])"
      ]
     },
     "execution_count": 84,
     "metadata": {},
     "output_type": "execute_result"
    }
   ],
   "source": [
    "np.sin(ar10)"
   ]
  },
  {
   "cell_type": "code",
   "execution_count": 85,
   "id": "89ce5769-4ca8-4235-9b76-131e703874e0",
   "metadata": {},
   "outputs": [
    {
     "name": "stderr",
     "output_type": "stream",
     "text": [
      "C:\\Users\\gagan\\AppData\\Local\\Temp\\ipykernel_6632\\168028880.py:1: RuntimeWarning: divide by zero encountered in log\n",
      "  np.log(ar10)\n"
     ]
    },
    {
     "data": {
      "text/plain": [
       "array([0.69314718, 1.60943791, 1.09861229, 2.07944154,       -inf,\n",
       "       1.38629436, 0.        , 1.79175947, 2.19722458])"
      ]
     },
     "execution_count": 85,
     "metadata": {},
     "output_type": "execute_result"
    }
   ],
   "source": [
    "np.log(ar10)"
   ]
  }
 ],
 "metadata": {
  "kernelspec": {
   "display_name": "Python 3 (ipykernel)",
   "language": "python",
   "name": "python3"
  },
  "language_info": {
   "codemirror_mode": {
    "name": "ipython",
    "version": 3
   },
   "file_extension": ".py",
   "mimetype": "text/x-python",
   "name": "python",
   "nbconvert_exporter": "python",
   "pygments_lexer": "ipython3",
   "version": "3.12.1"
  }
 },
 "nbformat": 4,
 "nbformat_minor": 5
}
